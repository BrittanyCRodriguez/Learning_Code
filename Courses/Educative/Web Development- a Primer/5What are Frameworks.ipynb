{
 "cells": [
  {
   "cell_type": "markdown",
   "metadata": {},
   "source": [
    "# **What are the Frameworks?**"
   ]
  },
  {
   "cell_type": "markdown",
   "metadata": {},
   "source": [
    "## Introduction\n",
    "\n",
    "A **web framework** is defined as a package made up of a structure of files and folders of standardized code (HTML, CSS, JS documents, etc.), which can be used to support the development of websites as a basis to start building a site. Essentially, frameworks provide some basic, standard starter code that allows developers to build the meat of their website on.\n",
    "\n",
    "Most websites share a very similar structure, and the aim of frameworks is to provide this common structure as a starting point so that developers don’t have to redo it from scratch and can reuse the provided code. Frameworks, therefore, serve to simplify the web development process."
   ]
  },
  {
   "cell_type": "markdown",
   "metadata": {},
   "source": [
    "## MVC architecture\n",
    "\n",
    "Before we introduce some of the common types, frameworks, can be categorized in, let’s discuss the underlying architecture of frameworks. Most, if not all, web application frameworks rely on the **Model View Controller** architecture. The pattern serves to separate the application logic from the user interface, thus forming the three components that the name is comprised of.\n",
    "\n",
    "##### **Model**\n",
    "\n",
    "The Model stores all information about the content and structure of an application. Upon receiving user input data from the Controller, it communicates any required interface updates to the View component.\n",
    "\n",
    "##### **View**\n",
    "\n",
    "This refers to the application’s front-end, or what is more commonly known as the *user interface*. It contains information about the layout and the way users can interact with any of its parts. The View receives user input, communicates it to the Controller for processing, and updates itself according to the instructions it, in turn, receives from the Model.\n",
    "\n",
    "##### **Controller**\n",
    "\n",
    "The Controller is an intermediary between the Model and the View. It receives user input from the View, processes it, and mediates required changes between the two.\n",
    "\n",
    "![MVC Architecture](Images/MvcArchitecture.png)"
   ]
  },
  {
   "cell_type": "markdown",
   "metadata": {},
   "source": [
    "## Types of frameworks\n",
    "\n",
    "There are both front-end and back-end frameworks that are very popularly used, and you may already have heard of them. Additionally, there are multiple isomorphic frameworks available that work on both the front-end and the back-end and serve as a bridge between the two."
   ]
  },
  {
   "cell_type": "markdown",
   "metadata": {},
   "source": [
    "### Front-end (client-side) frameworks\n",
    "\n",
    "\n",
    "1. Angular JS\n",
    "2. Bootstrap\n",
    "3. React.js\n",
    "4. Backbone\n",
    "5. Semantic-UI\n"
   ]
  },
  {
   "cell_type": "markdown",
   "metadata": {},
   "source": [
    "### Back-end (server-side) frameworks\n",
    "\n",
    "\n",
    "1. Express (JavaScript)\n",
    "2. Symfony (PHP)\n",
    "3. Django (Python)\n",
    "4. Ruby on Rails (Ruby)\n",
    "5. ASP .NET (C#)\n"
   ]
  },
  {
   "cell_type": "markdown",
   "metadata": {},
   "source": [
    "### Isomorphic (client-server) frameworks\n",
    "\n",
    "\n",
    "1. Meteor JS\n",
    "2. Lazo.js\n",
    "3. Rendr\n"
   ]
  },
  {
   "cell_type": "markdown",
   "metadata": {},
   "source": [
    "# **Front-end Frameworks**"
   ]
  },
  {
   "cell_type": "markdown",
   "metadata": {},
   "source": [
    "## Angular\n",
    "\n",
    "**Angular** (https://angular.io/) is a JavaScript framework created by Google that has been designed specifically for creating dynamic web applications. AngularJS addresses the limitations of HTML dynamic views in web applications and allows you to extend HTML vocabulary for your application. The resulting environment is highly expressive, readable, and quick to develop. Angular is used primarily to update the user interface in real time and provide a highly interactive website."
   ]
  },
  {
   "cell_type": "markdown",
   "metadata": {},
   "source": [
    "## Bootstrap\n",
    "\n",
    "**Bootstrap** (https://getbootstrap.com/), which can easily be categorized as the most used open-source framework in the world, was created by Twitter developers and primarily served to ease up the process of adding CSS to HTML. Bootstrap, like any other front-end framework, includes CSS, HTML, and JavaScript components. It adheres to responsive web design standards, and thus, allows users to develop responsive websites of all complexities and sizes."
   ]
  },
  {
   "cell_type": "markdown",
   "metadata": {},
   "source": [
    "## React.js\n",
    "\n",
    "**React** (https://reactjs.org/docs/getting-started.html) is a JavaScript library for building user interfaces. While there are doubts about whether it is an actual framework, it is a highly popular library that is used to build the View layer of an MVC application and warrants discussion in the context of front-end development. React is a component-based library that allows users to build encapsulated components, each of which manages its own state, and then compose them to make complex User Interfaces. The benefit of this is that when data changes, React makes sure that only the concerned components are updated."
   ]
  },
  {
   "cell_type": "markdown",
   "metadata": {},
   "source": [
    "## Backbone\n",
    "\n",
    "**Backbone.js** (http://backbonejs.org/) is an extremely light framework that allows you to structure your JavaScript code in an MVC (Model, View, Controller) form. Backbone makes use of **models, views,** and **collections** to ensure that your program does not become entangled in a myriad of callbacks and other extraneous pieces of code that make changes complicated. Instead, the models represent the data of the application and Backbone ensures that any changes to these models automatically trigger changes to any views that display these models."
   ]
  },
  {
   "cell_type": "markdown",
   "metadata": {},
   "source": [
    "## Semantic-UI\n",
    "\n",
    "While **Semantic-UI** (https://semantic-ui.com/) is a relatively new framework, it stands out in a number of ways. The primary distinction this particular framework enjoys is its simplicity. Semantic-UI uses natural language, and the code is, therefore, largely self-explanatory, thus making it highly desirable for beginners, particularly those with little or no coding experience. In addition to this, Semantic-UI is also integrated with a myriad of third-party libraries. This means that the development process becomes much easier because, for simpler applications, all the libraries you might require might already be integrated with the framework. Semantic-UI, therefore, is a great starting point for developing the front-end of beginner level websites. However, its package sizes are considerably larger than those of Foundation and Bootstrap, and it may not be a viable option when developing websites with more complex structures."
   ]
  },
  {
   "cell_type": "markdown",
   "metadata": {},
   "source": [
    "# **Back-end Frameworks**"
   ]
  },
  {
   "cell_type": "markdown",
   "metadata": {},
   "source": [
    "## Express (JavaScript)\n",
    "\n",
    "**Express.js** (https://expressjs.com/en/starter/installing.html) often referred to as the “de facto standard server framework” for Node.js, is a minimal and highly flexible Node.js web application framework that provides a robust set of features for web applications. The idea behind Express is to simplify the back-end development process enough to reduce basic back-end features such as creating an HTTP server from multiple, unintelligible lines of Node.js code, to a single instruction, while simultaneously keeping the core syntactical and logical characteristics of Node.js intact."
   ]
  },
  {
   "cell_type": "markdown",
   "metadata": {},
   "source": [
    "## Symfony (PHP)\n",
    "\n",
    "**Symfony** (https://symfony.com/) is a web development framework for PHP. The key idea behind Symfony is that it is essentially a set of reusable components. The benefits of this are obvious; with over 30 standalone components at your disposal, the process of writing an application becomes considerably simplified and, consequently, much easier and more efficient. Symfony, like the previous frameworks we have discussed, allows for more compact, readable, and simple code. This is beneficial because it allows you to focus on the higher-level functionality you want to implement as the more mundane tasks become confined to much smaller pieces of code that do not need to be thought about from scratch."
   ]
  },
  {
   "cell_type": "markdown",
   "metadata": {},
   "source": [
    "## Django (Python)\n",
    "\n",
    "**Django** (https://www.djangoproject.com/) is a high-level Python web framework that enables the rapid development of secure and maintainable websites. Django, like Express, takes care of reducing code for basic functionalities to simple instructions, so you can focus on writing your application and implementing more specific functionality without needing to reinvent the wheel and getting caught up in needlessly long bouts of code in doing so!"
   ]
  },
  {
   "cell_type": "markdown",
   "metadata": {},
   "source": [
    "## Ruby on Rails (Ruby)\n",
    "\n",
    "**Ruby on Rails** (https://rubyonrails.org/), also known as Rails, is a server-side web application framework written in Ruby. Rails is built on the Model View Controller architecture that we have previously studied, and it provides default structures for everything that goes into each component, including databases, several common web services as well as web pages themselves. Ruby on Rails, therefore, separates the process of web development into simplified components and provides a basic structure for each element any given component comprises of, thus making it immensely convenient for users to build their own specific functionality on top of these provisional structures without having to worry about starting from the very basics."
   ]
  },
  {
   "cell_type": "markdown",
   "metadata": {},
   "source": [
    "## ASP .NET (C#)\n",
    "\n",
    "**ASP.NET** (https://www.asp.net/) is an open-source, server-side web development framework for building modern web applications and services using .NET or any language supported by .NET. ASP .NET was developed by Microsoft to facilitate the process of developing dynamic web pages, and it has, therefore, considerably simplified the process of creating websites based on HTML5, CSS, and JavaScript. As a result, it has made it possible for users to create websites that are not only simple and fast but also have the capacity to scale to millions of users."
   ]
  },
  {
   "cell_type": "markdown",
   "metadata": {},
   "source": [
    "# **Isomorphic Frameworks**\n",
    "\n",
    "![Typical Frameworks vx Isomorphic Frameworks](Images/TypicalvsIsomorphic.png)"
   ]
  },
  {
   "cell_type": "markdown",
   "metadata": {},
   "source": [
    "## Meteor JS\n",
    "\n",
    "Meteor, or Meteor JS, is an open-source client-server JavaScript framework that has been written in Node.js. In addition to having the benefit of being a stand-alone framework that allows for development on both the front and back end of an application, Meteor also allows for prototyping, which means that it allows for versions of the same application to be stored and tested. In addition to this, Meteor also produces code that can span multiple platforms including Android, iOS, and the web itself.\n",
    "\n",
    "On the server-side, Meteor integrates with MongoDB and follows protocols to create a database management mechanism that enables data changes to be propagated directly to the client-side without having to write any synchronization code on both ends explicitly.\n",
    "\n",
    "On the client-side, Meteor has its own templating engine called Blaze that allows users to choose from templates for the user interface to customize, thus making the front end development much easier. Alternatively, Meteor can also be used with some of the front-end frameworks we have already studied. It can be integrated with the Angular or React frameworks to seamlessly produce user interfaces that don’t require too much work."
   ]
  },
  {
   "cell_type": "markdown",
   "metadata": {},
   "source": [
    "## Lazo.js\n",
    "\n",
    "Lazo.js is a client-server web development framework built on Node.js that has the benefit of providing front-end developers with a simple, and relatively familiar syntactical structure that they can use to create MVC structured web applications that are separated as multiple sophisticated components that come together to form the complete front-end. LazoJS has the added benefit of providing an optimized first-page load, something that is often a key determinant of user experience. These benefits are achieved using a combination of tools comprised of Backbone.js, RequireJS, and jQuery.\n",
    "\n",
    "Lazo was initially created to address the issues that spring from creating an entire website front ends as a single unit or single page applications instead of separating the user interface into mutually exclusive components. Lazo, in turn, not only provides front-end engineers with a familiar environment for creating complete web applications but also ensures that components are separated as such to avoid overly complicated application logic. Pages are constructed via reusable, testable components that have their own life cycles, thus allowing developers to easily create complex views for the interface while providing excellent encapsulation and separation of concerns."
   ]
  },
  {
   "cell_type": "markdown",
   "metadata": {},
   "source": [
    "## Rendr\n",
    "\n",
    "Rendr is a small library that allows you to run your Backbone.js applications on both the client and the server, depending on the specific needs of the web application you are developing. This means that Rendr provides users with mechanisms to build entire applications on either the client or server end in addition to the ability to distribute the code on both the client and server and using Rendr on both ends. Essentially, Rendr allows your web server to serve fully-formed HTML pages to any link within your application, while simultaneously preserving the feel of a traditional Backbone.js client-side MVC application.\n",
    "\n",
    "In recent times the bulk of applications have been moving increasingly to the client side. However, this is not always suitable and may cause some problems. As a solution to this, Rendr is intended to be a building block along the way to create web applications that can be run on either side of the wire according to the specific needs of your application."
   ]
  },
  {
   "cell_type": "markdown",
   "metadata": {},
   "source": [
    "# **Software Stacks**"
   ]
  },
  {
   "cell_type": "markdown",
   "metadata": {},
   "source": [
    "## Definition\n",
    "\n",
    "A **software stack** refers to a combination of tools that are used together to create software. We have already seen examples of this in the previous lesson, where many of the isomorphic frameworks we discussed used a combination of other frameworks or tools to provide the specific features it offers. These tools are inbuilt in these frameworks and are part of a nuance that users do not need to worry about when using the framework to develop their applications.\n",
    "\n",
    "However, it is often the case that multiple frameworks need to be used together along with other tools as a stack to create a web application, and in this case, each one of them needs to be explicitly included and linked by users themselves. We have already studied both front end and back end frameworks in the previous lessons; now we will look into using them together as a software stack to develop whole web applications."
   ]
  },
  {
   "cell_type": "markdown",
   "metadata": {},
   "source": [
    "## History and LAMP stack\n",
    "\n",
    "LAMP Stack entails using Linux, Apache, MySQL, and PHP together to build an application. Linux is the operating system, Apache acts as the HTTP server, MySQL provides the relational database to persist the application’s information, and PHP is the programming language in which the application is built. LAMP was amongst the earliest software stacks that web applications were typically built using.\n",
    "\n",
    "In recent times, however, Single Page Applications have grown in popularity in that they provide a more seamless user experience where lightweight server calls change what is rendered on the screen without having to refresh the entire page. Consequently, front-end frameworks are increasingly being used to achieve the benefits that SPAs pose. Similarly, NoSQL databases have also gained popularity due to the simplicity and efficiency they provide. As a result, modern software stacks have evolved to include front-end frameworks such as Angular and NoSQL databases such as MongoDB. The most common types include MEANStack and MERNStack, both of which we will be discussing in the following sections."
   ]
  },
  {
   "cell_type": "markdown",
   "metadata": {},
   "source": [
    "## MEANStack\n",
    "\n",
    "MEANStack refers to integrating the following frameworks and tools to create a web application:\n",
    "\n",
    "1. MongoDB\n",
    "2. Express JS\n",
    "3. Angular JS\n",
    "4. Node JS\n",
    "\n",
    "We have discussed each of these at length in our earlier lessons, so we won’t be going into too much detail here, but will briefly outline how they work together to form a web application and what role each component plays. MongoDB, as you might already have guessed, serves as the database and, thus, forms the storage component of the website. To put it in MVC terms, it acts as the Model component of the application. Express JS is used to develop the back-end of the web application and it is used to do everything from creating the server at the back-end to handling all kinds of requests coming in from the client end and processing data from the database accordingly. The express component, therefore, forms the controller of the MVC application. Angular JS, in this case, is used to develop the front-end of the web application, and it is basically used to program everything that happens within the browser on the client-side. The AngularJS component is, thus, synonymous to the View component of your MVC application. Node js, in this case, refers to the back end runtime environment of the web application. Essentially, express is built on Node js, and its purpose is to simplify operations that may be complicated in the basic Node js code. The underlying runtime environment for the event-driven code that you will be writing for your application is, therefore, Node JS.\n",
    "\n",
    "![MEANStack](Images/MEANStack.png)"
   ]
  },
  {
   "cell_type": "markdown",
   "metadata": {},
   "source": [
    "## MERNStack\n",
    "\n",
    "MERNStack applications have the same structure as MEANStack; a database, a server-side framework, and a client-side framework. The only difference, in this case, is that the front-end framework being used is different. The front-end of MERNStack applications is developed using React JS instead of Angular JS. There are no striking benefits of React compared to Angular or vice versa, so the software stack you select depends largely on the specific requirements of your application. Both React and Angular have been discussed in the lesson on front-end frameworks, and it is primarily a matter of preference when choosing between the two.\n",
    "\n",
    "![MERNStack](Images/MERNStack.png)"
   ]
  },
  {
   "cell_type": "markdown",
   "metadata": {},
   "source": [
    "## Isomorphic frameworks vs. software stacks\n",
    "\n",
    "So far, we have discussed both software stacks that entail using multiple frameworks together to create a web application and isomorphic frameworks that already have multiple frameworks integrated within them for users to leverage the benefits of each without having to worry about putting the pieces together. The question that then follows is obvious; *Which of the two is a better approach to web development?* The answer requires an analysis of the differences between the two. Let’s enumerate the key differences between two of the most popular frameworks of both types, Meteor JS and MEANStack, one by one:\n",
    "\n",
    "1. One key difference is simplicity. Meteor has a strong focus on ease of use and is relatively easy to become equipped with since it masks implementation level details of integrating the multiple frameworks it uses and allows users to focus on development. MEAN, on the other hand, requires multiple components to be integrated manually, each of which needs to be learned in detail before the development can begin.\n",
    "2. Extending on the first point, Meteor is a full stack framework, which means that it has an inbuilt database, as well as the capabilities of both a server-side and a client-side framework. MEANStack, on the other hand, requires each component of the stack to be installed, learned, and integrated manually. This makes it clear that Meteor is a much more convenient option.\n",
    "3. MEANStack is more flexible since the developer has to put all the components together, and it is, therefore, possible to swap out some of the components with alternate ones. On the other hand, Meteor has a stringent limitation on what technologies are being used since the underlying technologies are not of concern to the user. This means that for applications that have highly customized specifications, MEANStack is the more appropriate development model.\n",
    "4. There is a concept of reactivity in Meteor, which ensures that whenever there is a change in data, clients connected to the Meteor server get updated automatically without having to refresh. This is not the case in MEANStack, which requires additional technologies to be integrated to achieve this.\n"
   ]
  }
 ],
 "metadata": {
  "kernelspec": {
   "display_name": "Python 3",
   "language": "python",
   "name": "python3"
  },
  "language_info": {
   "codemirror_mode": {
    "name": "ipython",
    "version": 3
   },
   "file_extension": ".py",
   "mimetype": "text/x-python",
   "name": "python",
   "nbconvert_exporter": "python",
   "pygments_lexer": "ipython3",
   "version": "3.8.1"
  }
 },
 "nbformat": 4,
 "nbformat_minor": 4
}
