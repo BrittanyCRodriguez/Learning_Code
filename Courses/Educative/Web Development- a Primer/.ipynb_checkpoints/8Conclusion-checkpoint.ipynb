{
 "cells": [
  {
   "cell_type": "markdown",
   "metadata": {},
   "source": [
    "# **Final Words**"
   ]
  },
  {
   "cell_type": "markdown",
   "metadata": {},
   "source": [
    "## Quick Recap\n",
    "\n",
    "\n",
    "\n",
    "    The internet is just devices connected to each other. Some of these devices are web servers and web clients.\n",
    "\n",
    "    Web clients are devices that navigate and view websites. Web servers ‘host’ these websites, which means that they have the websites’ code. Website code can be divided into two parts: front-end and back-end.\n",
    "\n",
    "    Front-end code consists of HTML, CSS, and JavaScript. Most modern websites never use these languages as they are (vanilla); they usually use front-end frameworks.\n",
    "\n",
    "    Frameworks make coding up the front-end a lot simpler because most low-level and common functionality is already implemented. The back-end consists of a server, server software, and a database.\n",
    "\n",
    "    Databases store all your website’s data that users can query through the functionality given at the front-end.\n",
    "\n",
    "    Someone who is proficient at both and front and back-end programming is called a full-stack developer.\n",
    "\n",
    "    Git is a version control system that you can use to keep track of changes that you make to your code. It can also help you collaborate and revert any changes you made if you encounter a bug later. This is great because you won’t have to keep track of your project by naming files like this: ‘code-1.cpp’ ‘code-2.cpp’, ‘code-with-jeffs-changes.cpp’. This also keeps your directories clean and easy to manage.\n",
    "\n",
    "    Software development is an art, and there are many approaches to developing software, each of which is suited to different scenarios.\n"
   ]
  },
  {
   "cell_type": "markdown",
   "metadata": {},
   "source": [
    "# **Where to go from here?**"
   ]
  },
  {
   "cell_type": "markdown",
   "metadata": {},
   "source": []
  },
  {
   "cell_type": "markdown",
   "metadata": {},
   "source": []
  },
  {
   "cell_type": "markdown",
   "metadata": {},
   "source": []
  },
  {
   "cell_type": "markdown",
   "metadata": {},
   "source": []
  },
  {
   "cell_type": "markdown",
   "metadata": {},
   "source": []
  },
  {
   "cell_type": "markdown",
   "metadata": {},
   "source": []
  },
  {
   "cell_type": "markdown",
   "metadata": {},
   "source": []
  },
  {
   "cell_type": "markdown",
   "metadata": {},
   "source": []
  }
 ],
 "metadata": {
  "kernelspec": {
   "display_name": "Python 3",
   "language": "python",
   "name": "python3"
  },
  "language_info": {
   "codemirror_mode": {
    "name": "ipython",
    "version": 3
   },
   "file_extension": ".py",
   "mimetype": "text/x-python",
   "name": "python",
   "nbconvert_exporter": "python",
   "pygments_lexer": "ipython3",
   "version": "3.8.1"
  }
 },
 "nbformat": 4,
 "nbformat_minor": 4
}
