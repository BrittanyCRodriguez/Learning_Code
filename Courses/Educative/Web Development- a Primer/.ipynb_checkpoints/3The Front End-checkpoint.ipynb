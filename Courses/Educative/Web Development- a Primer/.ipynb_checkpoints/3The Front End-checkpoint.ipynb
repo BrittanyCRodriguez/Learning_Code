{
 "cells": [
  {
   "cell_type": "markdown",
   "metadata": {},
   "source": [
    "# **The Server-Side and The Client-Side**"
   ]
  },
  {
   "cell_type": "markdown",
   "metadata": {},
   "source": [
    "## Client-Side\n",
    "\n",
    "The code on the ‘client’ side runs on the client computer’s browser and handles what the website looks like, how it requests data from the server, and how it interacts with temporary and local storage on the client machine. This includes but is not limited to selecting and styling user interface components, creating layouts, navigation, form validation, and cache handling.\n",
    "\n",
    "![The Client Side](Images/ClientSide.svg)"
   ]
  },
  {
   "cell_type": "markdown",
   "metadata": {},
   "source": [
    "## Server-Side\n",
    "\n",
    "Server-side programming is used to deliver information that is queried from websites to clients.\n",
    "\n",
    "Companies like Amazon use server-side programming to construct search results for products and make targeted product suggestions based on client preferences and previous buying habits. Banks use server-side programming to store account information and restrict access from unauthorized accounts. Social media sites such as Facebook, Twitter, and Instagram, use server-side programming to highlight, share, and control access to content that is relevant to each user. Server-side programming includes but is not limited to,\n",
    "\n",
    "1. Delivering and storing information efficiently\n",
    "2. Providing a custom experience for each user\n",
    "3. Controlling access to content\n",
    "4. Storing session/state information\n",
    "5. Notifying and communicating\n",
    "6. Analyzing data\n",
    "\n",
    "Server-side languages include JavaScript, Python, PHP, Ruby, and C#.\n",
    "\n"
   ]
  },
  {
   "cell_type": "markdown",
   "metadata": {},
   "source": [
    "# **HTML**"
   ]
  },
  {
   "cell_type": "markdown",
   "metadata": {},
   "source": [
    "## Introduction\n",
    "\n",
    "HTML (**H**yper**T**ext **M**arkup **L**anguage) is not a programming language. It is a markup language. True programming languages have the ability to describe logic. HTML, however, is used to display and format parts of a webpage. It is strictly presentational."
   ]
  },
  {
   "cell_type": "markdown",
   "metadata": {},
   "source": [
    "## Tag Syntax\n",
    "\n",
    "HTML *marks up* content with HTML ‘tags’. HTML tags are the basic building blocks of all web pages. Essentially, they format the way that information and text is displayed. They put the content into categories (called elements!) such as ‘heading’, ‘paragraph’, and ‘table’. A basic HTML tag consists of a name enclosed within ‘angle brackets’ i.e., less than and greater than symbols. Also, these tags usually come in pairs of opening and closing tags. The closing tag is the same as the opening tag except that the closing tag has a forward slash after the less-than symbol.\n",
    "\n",
    "```\n",
    "        <tagname> content </tagname>\n",
    "\n",
    "```\n",
    "Some tags are ‘self-closing’ which means that they don’t require a closing tag.\n",
    "\n",
    "```\n",
    "        <selfclosing/> content\n",
    "        \n",
    "```\n",
    "\n",
    "![HTML Element](Images/HtmlElement.svg)\n"
   ]
  },
  {
   "cell_type": "markdown",
   "metadata": {},
   "source": [
    "## HTML Document Structure\n",
    "\n"
   ]
  },
  {
   "cell_type": "markdown",
   "metadata": {},
   "source": [
    "### The < HTML > tag\n",
    "    \n"
   ]
  },
  {
   "cell_type": "markdown",
   "metadata": {},
   "source": [
    "### The < head> and < body> tag\n",
    "\n",
    "Furthermore, valid HTML documents require the <head> and <body> tags. Also, the head and body tags have nothing to do with where the content is positioned on the output of the browser — they are used to compartmentalize the document itself.\n",
    "    \n",
    "The <head> tag contains metadata such as the page title, links to CSS and JS files, and keywords that are used by search engines like Google. The metadata is not displayed in the browser.\n",
    "\n",
    "The <body> tag, on the other hand, contains the actual markup like paragraphs, images, and tables that are displayed in the browser.\n",
    "    "
   ]
  },
  {
   "cell_type": "markdown",
   "metadata": {},
   "source": [
    "### Doctype\n",
    "\n",
    "The doctype is a declaration that tells the browser the HTML version that the document is written in. It should be the absolute first thing on the document. Some common doctypes are listed below.\n",
    "\n",
    "   #### **Declaration   ----------------------------------  Type**\n",
    "                      \n",
    "    HTML5     --------------------------- <!DOCTYPE html>\n",
    "                      \n",
    "    HTML 4.01 Strict -------------------- <!DOCTYPE HTML PUBLIC \"-//W3C//DTD HTML 4.01//EN\" \"http://www.w3.org/TR/html4/strict.dtd\">\n",
    "\n",
    "    XHTML 1.0. Strict  ------------------- <!DOCTYPE html PUBLIC \"-//W3C//DTD XHTML 1.0 Strict//EN\" \"http://www.w3.org/TR/xhtml1/DTD/xhtml1-strict.dtd\">"
   ]
  },
  {
   "cell_type": "markdown",
   "metadata": {},
   "source": [
    "### HTML Comments\n",
    "\n",
    "-"
   ]
  },
  {
   "cell_type": "markdown",
   "metadata": {},
   "source": [
    "## Tag Attributes\n",
    "\n",
    "-"
   ]
  },
  {
   "cell_type": "markdown",
   "metadata": {},
   "source": [
    "## Common Tags\n",
    "\n",
    "-"
   ]
  },
  {
   "cell_type": "markdown",
   "metadata": {},
   "source": [
    "# **CSS**"
   ]
  },
  {
   "cell_type": "markdown",
   "metadata": {},
   "source": [
    "## Introduction\n",
    "\n",
    "CSS is a styling language for HTML. To understand CSS, it’s worth recalling the main purpose of HTML. HTML was originally designed as a structural language, but with time and updates, it has been turned into a tool for presentation which uses fonts, colors, and other visual elements. The purpose of CSS is to restore HTML to its original status as a structural language. In other words, cascading style sheets are a way to format your page layout, text, fonts, images, and almost anything that controls the look and feel of your web page. This leaves HTML with the structural work only."
   ]
  },
  {
   "cell_type": "markdown",
   "metadata": {},
   "source": [
    "## Linking CSS with HTML\n",
    "\n",
    "There are three ways to add CSS to the HTML code."
   ]
  },
  {
   "cell_type": "markdown",
   "metadata": {},
   "source": [
    "### Inline CSS\n",
    "\n",
    "CSS is said to be added 'inline' when it is used in the **style** attribute of HTML tags. This is inefficient and not scalable because each individual tag would have to have CSS inserted. This method is never usesd as it is extremely impractical.\n",
    "\n",
    "#### HTML Input\n",
    "\n",
    "   ``` <h3 style =\"color:blue\">Blue Heading!</h3>```\n",
    "\n",
    "#### Output\n",
    "<html>\n",
    "    <h3 style =\"color:blue\">Blue Heading!</h3>\n",
    "    </html>"
   ]
  },
  {
   "cell_type": "markdown",
   "metadata": {},
   "source": [
    "### Internal CSS\n",
    "\n",
    "You can use ```<style> ``` tags within the``` <head>``` of the HTML to define the style of a certain tag. For instance, in the example below, all h3 headings are defined to be blue. This approach is clearly better from using CSS inline because this makes the code less repetitive, easier to read and write, and overall economical."
   ]
  },
  {
   "cell_type": "markdown",
   "metadata": {},
   "source": [
    "### External CSS\n",
    "\n",
    "CSS is most commonly written in a separate file and linked up with the HTML. The advantage of doing so is that it can be reused by other HTML files, updating it becomes simpler, and web pages can be tailored for different users, browsers, and platforms.\n",
    "\n",
    "You can do so by writing a self-closing link tag in your HTML head like the following,\n",
    "\n",
    "```<link rel=\"stylesheet\" href=\"cssfilename.css\">```\n",
    "\n",
    "the ```rel``` attribute of the link element above tells the HTML to import a CSS file."
   ]
  },
  {
   "cell_type": "markdown",
   "metadata": {},
   "source": [
    "## Page Layout Techniques\n",
    "\n",
    "CSS page layout techniques provide us with an efficient way to layout, align, and distribute space among elements within your document, even when the viewport and the size of your elements are dynamic or unknown. Some essential page layout techniques involve Flexbox and Grid. To learn more about Flexbox, check out our course Understanding Flexbox: Everything you need to know! : \n",
    "\n",
    "**https://www.educative.io/courses/understanding-flexbox-everything-you-need-to-know**"
   ]
  },
  {
   "cell_type": "markdown",
   "metadata": {},
   "source": [
    "## Animations\n",
    "\n",
    "CSS even provides us with a way to animate HTML elements without having to use JavaScript or Flash! So you can move things around with pure CSS. "
   ]
  },
  {
   "cell_type": "markdown",
   "metadata": {},
   "source": [
    "## Preprocessors *\n",
    "\n",
    "A CSS preprocessor is a scripting language that extends CSS and then compiles it into regular CSS."
   ]
  },
  {
   "cell_type": "markdown",
   "metadata": {},
   "source": [
    "### SASS & LESS\n",
    "\n",
    "**S**yntactically **A**wesome **S**tyle **S**heets and **L**eaner **S**tyle **S**heets are language extensions for CSS that allow you to use more conventional programming constructs such as variables, conditionals, and loops to generate CSS. The CSS preprocessor converts the SASS code into regular CSS"
   ]
  },
  {
   "cell_type": "markdown",
   "metadata": {},
   "source": [
    "# **Javascript**"
   ]
  },
  {
   "cell_type": "markdown",
   "metadata": {},
   "source": [
    "## Introduction\n",
    "\n",
    "JavaScript is the web scripting language developed by Netscape. The language was standardized to ECMAScript, as a cross-platform Internet standard for scripting, but it is still most commonly called JavaScript."
   ]
  },
  {
   "cell_type": "markdown",
   "metadata": {},
   "source": [
    "### Java vs JavaScript\n",
    "\n",
    "Java is to JavaScript what car is to carpet. They don’t have anything to do with each other. JavaScript is syntactically to C and C++."
   ]
  },
  {
   "cell_type": "markdown",
   "metadata": {},
   "source": [
    "### Why JavaScript?\n",
    "\n",
    "JavaScript allows you to implement complex things on web pages; every time a web page does more than just display static information such as content updates, interactive maps, and animated 2D/3D graphics, JavaScript is probably involved. It is the third layer of standard web technologies, two of which (HTML and CSS) we have already covered."
   ]
  },
  {
   "cell_type": "markdown",
   "metadata": {},
   "source": [
    "## The Web Browser Concole\n",
    "\n",
    "If you have taken a basic programming course, you would know that you can print things on to the terminal. For example, you can use ```cout << string``` in C++ to print ```string.``` But how do you do this in a JavaScript program since JavaScript runs on browsers? Well, it turns out all browsers have a console that is not displayed by default but can be viewed. If you are on Chrome or Firefox, for example, just hit Cmd+Option+J on Mac or Ctrl+Shift+J on Windows to view the console! You can do something similar on Safari."
   ]
  },
  {
   "cell_type": "markdown",
   "metadata": {},
   "source": [
    "## Hello World\n",
    "\n",
    "Let’s look at a basic hello world program in JavaScript. \n",
    "\n",
    "``` console.log(\"Hello World!\"); ```\n",
    "\n",
    "If this were part of the front-end code run on a browser, “Hello World!” would get printed onto the console."
   ]
  },
  {
   "cell_type": "markdown",
   "metadata": {},
   "source": [
    "## Linking JavaScript, HTML, and CSS\n",
    "\n",
    "Here are the two ways to run JavaScript code on the browser with HTML and CSS."
   ]
  },
  {
   "cell_type": "markdown",
   "metadata": {},
   "source": [
    "### JavaScript Code in the HTML File\n",
    "\n",
    "JavaScript can be written directly into an HTML file using the ```<script>``` tag. For example,\n",
    "\n",
    "```html\n",
    "<html>\n",
    "  <head>\n",
    "  </head>\n",
    "  <body>\n",
    "    <script> alert(\"This is JavaScript in an HTML file!\") </script>\n",
    "  </body>\n",
    "</html>\n",
    "```"
   ]
  },
  {
   "cell_type": "markdown",
   "metadata": {},
   "source": [
    "### External JavaScript\n",
    "\n",
    "JavaScript files (files with a ‘**.js**’ extension) can otherwise be imported into HTML files similar to how CSS files are imported,\n",
    "\n",
    "```<script src=\"myJSscript.js\"></script>```\n",
    "\n",
    "You can place an external script reference in the ```<head>``` or the ```<body>```. The imported script will behave as if it was written exactly where the ```<script>``` tag is located."
   ]
  },
  {
   "cell_type": "markdown",
   "metadata": {},
   "source": [
    "## The DOM\n",
    "\n",
    "Notice how in HTML files, there is one main ```<HTML>``` tag, then there are tags within that tag and other tags within those and so on? Well, that HTML structure can be mapped onto a **tree**. The DOM stores these HTML elements as objects that can then be manipulated in various ways through JavaScript. To learn more about DOM manipulation with JavaScript, check out our course: Learn web development from scratch: Go Beyond the syntax.\n",
    "    \n",
    "    https://www.educative.io/courses/learn-html-css-javascript-from-scratch?authorName=Medhir%20Bhargava"
   ]
  },
  {
   "cell_type": "markdown",
   "metadata": {},
   "source": []
  },
  {
   "cell_type": "markdown",
   "metadata": {},
   "source": []
  }
 ],
 "metadata": {
  "kernelspec": {
   "display_name": "Python 3",
   "language": "python",
   "name": "python3"
  },
  "language_info": {
   "codemirror_mode": {
    "name": "ipython",
    "version": 3
   },
   "file_extension": ".py",
   "mimetype": "text/x-python",
   "name": "python",
   "nbconvert_exporter": "python",
   "pygments_lexer": "ipython3",
   "version": "3.8.1"
  }
 },
 "nbformat": 4,
 "nbformat_minor": 4
}
