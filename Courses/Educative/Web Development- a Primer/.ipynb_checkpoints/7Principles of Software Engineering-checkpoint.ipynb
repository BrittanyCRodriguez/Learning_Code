{
 "cells": [
  {
   "cell_type": "markdown",
   "metadata": {},
   "source": [
    "# **Software Process Models**"
   ]
  },
  {
   "cell_type": "markdown",
   "metadata": {},
   "source": [
    "## Software processes\n",
    "\n",
    "Now that we have a basic idea of what goes into developing a website and what its multiple components are, we will proceed to discuss the different ways in which we can structure the development process.\n",
    "\n",
    "A **software** process is defined as a set of related activities that leads to the production of a software product, such as a website. The software processes we will be discussing in this chapter are all concepts that fall under professional software engineering that entails building large scale web applications. However, these are all important concepts that you should be familiar with if you are looking to take up web development professionally or eventually planning to deploy your website since they provide a methodology to the process that allows you to organize your work into logical stages.\n",
    "\n",
    "There are several different software processes that we will discuss in this chapter; however, we will first outline the four fundamental software engineering activities that all of them must comprise of:\n",
    "\n",
    "1. *Software specification*: Defining the intended functionality of the software and potential constraints on its operation. In the case of a starter web application, this would be the stage where you define the features you want to implement on your website.\n",
    "2. *Software design and implementation*: Producing the software according to the specifications articulated. This is the stage where the actual application is developed.\n",
    "3. *Software validation*: Ensuring the software does what users want it to do. During this stage, you make sure the features you wanted to implement have been implemented correctly.\n",
    "4. *Software evolution*: The ability of the software to adapt with evolving user requirements. This is an ongoing stage where you continuously come up with features that you think would make your application better and implement them.\n",
    "\n",
    "![Software Process](Images/SoftwareProcess.png)\n",
    "\n",
    "Although there is no “ideal” software process, and the efficiency of any given approach depends on individual strengths and weaknesses, it is important to understand the standard models that exist in order to know where to begin planning your website."
   ]
  },
  {
   "cell_type": "markdown",
   "metadata": {},
   "source": [
    "## Categories\n",
    "\n",
    "All process models can be categorized as one of the following:\n",
    "\n",
    "1. Plan-driven\n",
    "2. Agile\n",
    "\n",
    "A **plan-driven process** is one where all of the process activities are planned in advance, and progress is measured against this plan.\n",
    "\n",
    "![Plan Driven Development](Images/PlanDrivenDev.png)\n",
    "\n",
    "An agile process is one where planning is incremental, and it is easier to change the process in accordance with changing customer requirements.\n",
    "\n",
    "![Agile Development](Images/AgileDev.png)"
   ]
  },
  {
   "cell_type": "markdown",
   "metadata": {},
   "source": [
    "# **The Waterfall Model**"
   ]
  },
  {
   "cell_type": "markdown",
   "metadata": {},
   "source": [
    "## Introduction\n",
    "\n",
    "The waterfall model is the first published model of the software development process, and it consists of representing the fundamental activities of specification, development, validation, and evolution as separate, sequential process phases.\n",
    "\n",
    "![Waterfall Model](Images/WaterfallModel.png)"
   ]
  },
  {
   "cell_type": "markdown",
   "metadata": {},
   "source": [
    "## Principle stages\n",
    "\n",
    "There are multiple stages involved in the waterfall model, and theoretically, every stage must be completed before the next one can be “cascaded” on to, which is why the model is referred to as the waterfall model.\n",
    "\n",
    "Each of the five stages depicted in the above diagram is described in more detail in the rest of the lesson."
   ]
  },
  {
   "cell_type": "markdown",
   "metadata": {},
   "source": [
    "### Analyse and define requirements\n",
    "\n",
    "The system’s intended services, potential constraints, and goals are established and then defined in detail. These requirements then serve as a product specification, according to which the website is then developed."
   ]
  },
  {
   "cell_type": "markdown",
   "metadata": {},
   "source": [
    "### Design software\n",
    "\n",
    "The design process entails allocating the requirements realized in the previous stage to different software components by establishing an overall system architecture. Software design involves identifying and describing the fundamental software system abstractions and the relationships amongst them that your website will require."
   ]
  },
  {
   "cell_type": "markdown",
   "metadata": {},
   "source": [
    "### Implement and test units\n",
    "\n",
    "During this stage, the software design is translated to a set of programs or multiple program units. Unit testing involves verifying that each unit meets its specifications."
   ]
  },
  {
   "cell_type": "markdown",
   "metadata": {},
   "source": [
    "### Integrate units and test system\n",
    "\n",
    "The individual program units are integrated and tested as a complete system to ensure that the software requirements have been met. After testing, the software system is delivered to the customer. In the case of your own website, you would deploy it at this point."
   ]
  },
  {
   "cell_type": "markdown",
   "metadata": {},
   "source": [
    "### Operation and maintenance\n",
    "\n",
    "Normally (although not necessarily), this is the longest life cycle phase. The system is installed and put into practical use. Maintenance involves correcting errors that were not discovered in earlier stages of the life cycle, improving the implementation of system units and enhancing the system’s services as new requirements are discovered."
   ]
  },
  {
   "cell_type": "markdown",
   "metadata": {},
   "source": [
    "## Conclusion\n",
    "\n",
    "The waterfall model is categorized as a plan-driven process since it requires a detailed plan to be in place before each stage can be executed. This model works best in large organizations that have several people working on large-scale projects which need detailed paperwork and records to coordinate with one another. However, in the case of personal websites or small projects, this approach may prove to be unnecessarily meticulous and extraneous since there is no need to keep elaborate records in that situation."
   ]
  },
  {
   "cell_type": "markdown",
   "metadata": {},
   "source": [
    "# **Incremental Development**"
   ]
  },
  {
   "cell_type": "markdown",
   "metadata": {},
   "source": [
    "## Introduction\n",
    "\n",
    "The incremental development approach is a fundamental agile process that entails interleaving the activities of specification, development, and validation. The system is then developed as a series of versions or increments, with each version adding functionality to the previous version.\n",
    "\n",
    "The underlying idea in the incremental development process is to develop an initial version of your website, open it to feedback, and then incrementally develop newer versions based on this feedback. In this case, the specification, development, and validation phases all happen concurrently and feed into one another.\n",
    "\n",
    "![Incremental Development Model](Images/IncrementalDevModel.png)\n",
    "\n",
    "Incremental software development is better suited than a waterfall approach to most business and personal systems. This is because incremental development is a more intuitive way of solving problems. It is the equivalent of moving toward a solution in a series of steps, backtracking on mistakes, and iteratively reaching a solution. Moreover, developing the software incrementally means it is cheaper and easier to add changes to it while it is still being developed instead of having to wait for problems to be discovered after undergoing the entire development process."
   ]
  },
  {
   "cell_type": "markdown",
   "metadata": {},
   "source": [
    "## Incremental development vs. waterfall model\n",
    "\n",
    "As we have already seen, the incremental development model is more intuitive than the waterfall model for developing the most common website use cases. In addition to this, there are a number of other benefits that incremental development has compared to the waterfall model, and they are enumerated as follows:\n",
    "\n",
    "1. The cost of accommodating changing customer requirements diminishes significantly in this case as the amount of analysis and documentation that has to be redone is much less than in the waterfall model.\n",
    "2. It is easier to get customer feedback on the development work that has been done since they can comment on physical demonstrations of the software and see how much has been implemented as opposed to judging from software design documents.\n",
    "3. More rapid delivery and deployment of useful software to the customer is possible, even if all of the functionality has not been included. Customers are able to use and gain value from the software earlier than is possible with a waterfall process.\n"
   ]
  },
  {
   "cell_type": "markdown",
   "metadata": {},
   "source": [
    "## Conclusion\n",
    "\n",
    "The incremental development model is a much simpler approach that is easily implemented and allows for efficient software development on a small-scale. For websites that are not complex and do not require multiple groups of people to work on them, this approach is the best suited since it allows for a systematic simplicity and efficiency simultaneously."
   ]
  },
  {
   "cell_type": "markdown",
   "metadata": {},
   "source": [
    "# **Reuse-oriented Software Engineering**"
   ]
  },
  {
   "cell_type": "markdown",
   "metadata": {},
   "source": [
    "## Introduction\n",
    "\n",
    "As we have already seen in the frameworks chapter, most software projects require some software reuse when people working on the project know of preexisting designs or codes that are similar to what is required. They look for these, modify them as needed, and incorporate them into their system according to its particular requirements. This is done regardless of the development process that is being used.\n",
    "\n",
    "In recent times, however, software development processes that focus on the reuse of existing software have become widely used. Reuse-oriented approaches rely on reusable software components and an integrating framework for the composition of these components. Sometimes, these components are systems in their own right that may provide specific​ functionality, much like the frameworks we have previously studied.\n",
    "\n",
    "![Software Engineering Process](Images/SoftwareEngineeringProcess.png)"
   ]
  },
  {
   "cell_type": "markdown",
   "metadata": {},
   "source": [
    "## Advantages & disadvantages\n",
    "Reuse-oriented software engineering has the obvious advantage of significantly reducing the actual development that needs to be done from scratch, which in turn ensures faster product delivery.\n",
    "\n",
    "However, reusing other software also means that the requirements will inevitably have to change according to the specifics of the software being used, which may not be perfectly equipped to cater to the requirements of the software being developed. This also means that there is a significant loss of control over how the software evolves since its evolution then depends on how its third-party components evolve.\n"
   ]
  },
  {
   "cell_type": "markdown",
   "metadata": {},
   "source": [
    "## Conclusion\n",
    "\n",
    "Reuse-oriented software engineering is the most prevalent approach to developing software right now. With the introduction of frameworks such as Express and Angular, web development has become significantly simplified, and nuances are provided for complicated code that is required in almost all websites. It is, therefore, a good idea to leverage these nuances when developing an initial website to create sophisticated programs that allow you to understand the functionality you are developing instead of getting intertwined in extraneous details of the code that produces it."
   ]
  },
  {
   "cell_type": "markdown",
   "metadata": {},
   "source": [
    "# **Test Driven Development**\n",
    "\n",
    "In the previous lessons, we looked into various approaches to software development, and while choosing a well-structured development process is essential to developing high-quality software, it is equally important to have an effective​ testing process that can ensure that all software requirements are being met. While there are multiple approaches to software testing, the most prominent is *test driven development*, and that is what we will be discussing in this lesson."
   ]
  },
  {
   "cell_type": "markdown",
   "metadata": {},
   "source": [
    "## Test driven development\n",
    "\n",
    "**Test-driven development** is an approach to program development in which you interleave both testing and code development. Essentially, you develop your code incrementally and also simultaneously develop a test for each increment. You don’t move on to the next increment until the code that you have developed passes its test.\n",
    "\n",
    "![Test Driven Development](Images/TestDrivenDev.png)"
   ]
  },
  {
   "cell_type": "markdown",
   "metadata": {},
   "source": [
    "## Automated testing\n",
    "\n",
    "The core idea in test-driven development is to simultaneously develop automated tests with each increment and ensure the tests are passed. Tests are automated using APIs that automate browsers and execute test cases without human intervention. **Test cases** refer to the multiple features a web application intends to cater to, and testing requires a test to be developed for each test case. In the rest of the lesson, we will be discussing some popular testing tools that may be helpful."
   ]
  },
  {
   "cell_type": "markdown",
   "metadata": {},
   "source": [
    "### Selenium\n",
    "\n",
    "**Selenium** (https://www.seleniumhq.org/) is one of the most commonly used tools for web application testing. Its primary purpose is to automate browsers, which means that Selenium allows for tests that can automatically access the application being developed and check if the intended functionality has been implemented correctly. The gist of Selenium is that it allows users to define a set of activities for a web browser to carry out so applications can automatically be opened and tested through the tool, just like a human would test functionality manually."
   ]
  },
  {
   "cell_type": "markdown",
   "metadata": {},
   "source": [
    "### Jest\n",
    "\n",
    "**Jest** (https://jestjs.io/) is an integrated, “zero-configuration” JavaScript testing tool that is often used by Facebook to test all of its JavaScript code, including React applications. Jest works with every compile-to-JavaScript language and integrates seamlessly with Babel which means you can write React, TypeScript, and much more without configuration."
   ]
  },
  {
   "cell_type": "markdown",
   "metadata": {},
   "source": [
    "### PyUnit\n",
    "\n",
    "**PyUnit** (https://docs.python.org/2/library/unittest.html) refers to the Python unit testing framework. A unit test targets a small unit of code, such as a method that implements a particular functionality. Also known as **unittest**, PyUnit supports test automation, the ability to share setup and shutdown code for tests, aggregation of tests into collections, as well as the ability to keep tests independent from the reporting framework. PyUnit is, therefore, an essential tool in testing the intended functionality of a given web application."
   ]
  },
  {
   "cell_type": "markdown",
   "metadata": {},
   "source": [
    "### JUnit\n",
    "\n",
    "**JUnit** (https://junit.org/junit5/docs/current/user-guide/) is the Java equivalent of PyUnit, and it enables users to write unit test cases in the Java programming language.\n",
    "\n",
    "JUnit, like PyUnit, has been important in the development of test-driven development and is one of a family of unit testing frameworks collectively known as **xUnit** (https://en.wikipedia.org/wiki/XUnit)."
   ]
  },
  {
   "cell_type": "code",
   "execution_count": null,
   "metadata": {},
   "outputs": [],
   "source": []
  }
 ],
 "metadata": {
  "kernelspec": {
   "display_name": "Python 3",
   "language": "python",
   "name": "python3"
  },
  "language_info": {
   "codemirror_mode": {
    "name": "ipython",
    "version": 3
   },
   "file_extension": ".py",
   "mimetype": "text/x-python",
   "name": "python",
   "nbconvert_exporter": "python",
   "pygments_lexer": "ipython3",
   "version": "3.8.1"
  }
 },
 "nbformat": 4,
 "nbformat_minor": 4
}
