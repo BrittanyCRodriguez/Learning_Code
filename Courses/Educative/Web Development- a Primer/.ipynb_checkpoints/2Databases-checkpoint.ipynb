{
 "cells": [
  {
   "cell_type": "markdown",
   "metadata": {},
   "source": [
    "# **Databases in Web Development**"
   ]
  },
  {
   "cell_type": "markdown",
   "metadata": {},
   "source": [
    "## Static vs. Dynamic web pages\n",
    "\n",
    "Websites may be classified into one of two types:\n",
    "\n",
    "1. Static\n",
    "\n",
    "2. Dynamic\n",
    "\n",
    "**Static Websites** are ones that only display information such as text or pictures on their web pages that users cannot interact with.\n",
    "\n",
    "**Dynamic Websites**, on the other hand, allow for user interaction, and that is where Databases come into the picture.\n",
    "\n",
    "![Dynamic Website Structure](Images/DynamicStructure.svg)"
   ]
  },
  {
   "cell_type": "markdown",
   "metadata": {},
   "source": [
    "## DBMS in web application\n",
    "\n",
    "DBMS, short for Database Management System, is essentially a sort of nuance added to web development that allows data to be separated from the logic of the application and stored separately to be retrieved and processed when required. What this means is that data is stored in a database that has an entirely autonomous system governing it. THe application then makes calls to this database for any required data without having to integrate large amounts of handling code within the application code itself. They are important because they provide a highly efficient method for handling multiple types of data, without interfering with the application's code."
   ]
  },
  {
   "cell_type": "markdown",
   "metadata": {},
   "source": [
    "## Types of DBMS\n",
    "\n",
    "DBMS can be categorized into one of two types:\n",
    "\n",
    "1. SQL\n",
    "\n",
    "2. NoSQL"
   ]
  },
  {
   "cell_type": "markdown",
   "metadata": {},
   "source": [
    "## SQL\n",
    "\n",
    "SQL databases, also known as *relational databases*, use structured query language (SQL) for defining and manipulating data. On the one hand, this is extremely useful since SQL is one of the most versatile and widely-used options available, thus making it a safe choice and especially great for complex queries. On the other hand, it can be restrictive, too, since SQL requires that you use predefined schemas to determine the structure of your data before you work with it. Moreover, data is always stored as a table in SQL databases, which leads to inefficient and complicated data retrievals. In addition, all of your data must follow the same structure. This can require significant effort and may lead to a highly complicated data processing code that can affect the quality of the overall application.\n",
    "\n",
    "Some common SQL databases are:\n",
    "\n",
    "1. MySQL\n",
    "\n",
    "2. PostgresSQL\n",
    "\n",
    "3. MariaDB"
   ]
  },
  {
   "cell_type": "markdown",
   "metadata": {},
   "source": [
    "## NoSQL\n",
    "\n",
    "NoSQL databases, also known as **non-relational databases**, have a dynamic schema for unstructured data, and data is stored in many ways, including key-value pairs, documents and, even graphs. This flexibility means that you don’t have to define the structure of your data explicitly and each data set can have its own unique structure without having to worry about writing extraneous lines of code to process this data to match a specific predefined structure. These databases can grow dynamically, and the structure of data can vary from database to database.\n",
    "\n",
    "Popular NoSQL databases are:\n",
    "\n",
    " 1. Apache CouchDB\n",
    " 2. Redis\n"
   ]
  },
  {
   "cell_type": "markdown",
   "metadata": {},
   "source": [
    "# **SQL Databases**\n"
   ]
  },
  {
   "cell_type": "markdown",
   "metadata": {},
   "source": [
    "## MySQL\n",
    "\n",
    "**MySQL** is amongst the most commonly used database management systems, and it has formed an integeral part of most web applications in the past. MySQL is backed by Oracle and uses Standard Query Language (SQL) to store data in the form of a table, and to retrieve data required making queries in SQL. MySQL, unlike SQL itself, works across all platforms, including Linux, iOS, and Windows and it has all the simplicity of SQL as it does not require any new syntax to be learned once you know SQL.\n",
    "\n",
    "Example of a MySQL query that creates a new table:\n",
    "\n",
    "```sql\n",
    "CREATE TABLE [IF NOT EXISTS] table_name(\n",
    "    column1 DATATYPE,\n",
    "    column2 DATATYPE,\n",
    "    column3 DATATYPE,\n",
    "    column4 DATATYPE,\n",
    "    Primary KEY (column1)\n",
    ") ENGINE=storage_engine\n",
    "```"
   ]
  },
  {
   "cell_type": "markdown",
   "metadata": {},
   "source": [
    "## PostgreSQL\n",
    "\n",
    "**PostgreSQL**, also known as Postgres, is an open-source object-relational database management system that can handle large amounts of data and can provide seamless support for web applications that handle multiple concurrents users. It is the default database for macOS and provides efficient data management across platforms. It also supports concurrent database accesses and allows users to add custom functions developed using several programming languages, including C, C++, and Java.\n",
    "\n",
    "In addition, another primary benefit of PostgreSQL is that it is designed to be extensible. This means that users can define their own data types and even custom plugins to alter parts of the system according to their requirements."
   ]
  },
  {
   "cell_type": "markdown",
   "metadata": {},
   "source": [
    "## MariaDB\n",
    "\n",
    "**MariaDB** is a fork of MySQL, which was created by the original developers of MySQL's acquisition. It is meant to be a replacement of MySQL and includes a wide selection of storage engines so it can easily work with data from other relational data management systems. MariaDB, like MySQL uses a standard querying language, which makes it just as simple to use as MySQL. MariaDB runs on an number of opearing systems and supports a wide variety of programming languages. In particular, it offers support for PHP, which, as we will later learn, is one of the most popular web development languages.\n",
    "\n",
    "In addition to having all the benefits that MySQL poses, MariaDB also offers many operations and commands that are not available in MySQL and replaces features that tend to impact performance negatively.\n",
    "\n",
    "![SQL Databases Logos](Images/LogoSqlDatabases.png)"
   ]
  },
  {
   "cell_type": "markdown",
   "metadata": {},
   "source": [
    "## The transition to NoSQL\n",
    "\n",
    "Speed is amongst the most important factors that affect user experience on a web application. Relying on an unnecessary number of calls to a database usually tends to slow things down for users, and it is, therefore, important for web developers to keep some commonly requested chunks of data in immediate storage so that they can be retrieved quickly, without creating large latencies in displaying data. To do so, web developers need to think about how to get as much data in memory as reasonably possible, and then how to get things cached at the file system level to avoid making calls to a database altogether. The reason for this is that retrieving data from a database is the bottleneck of most web applications, and decreasing these operations can significantly improve responsiveness. The process of selecting commonly requested data components and storing them in immediate memory to avoid extraneous database calls is referred to as **caching**, and NoSQL databases have gained popularity in recent times because of their ability to automatically cache data to enhance performance.\n",
    "\n",
    "In addition to this, the database calls themselves are more inefficient in SQL databases than in NoSQL databases. This is because SQL databases store data in tabular form, and queries require comprehensive iterations of the table. NoSQL databases, on the other hand, use data structures to store entries, which means that lookups are always optimized and database calls are much more efficient. Consequently, with modern web applications increasingly requiring fast response times to achieve intended functionality, the shift towards using NoSQL databases has been apparent in recent times."
   ]
  },
  {
   "cell_type": "markdown",
   "metadata": {},
   "source": [
    "# **NoSQL Databases**"
   ]
  },
  {
   "cell_type": "markdown",
   "metadata": {},
   "source": [
    "## MongoDB\n",
    "\n",
    "**MongoDB**, which is possibly the most popular NoSQL DBMS, is an open-source non-relational database management system that has come to be known as the leading option when it comes to developing modern web applications. MongoDB uses a document-based storage system that stores key-value pairs and allows for highly efficient lookups, making data retrievals much faster and easier than any typical SQL DBMS. The document model ensures that data can be mapped directly to objects within the application code, and is, therefore, makes data handling significantly easy by eliminating the need for adding code to process queried data. MongoDB stores data in a highly flexible manner, thus allowing for fields to vary from document to document and the structure of data to be open to change over time. Data can also be indexed and queried according to specific user requirements and then updated in real-time. This makes MongoDB and exceptionally powerful system for data analysis, and that shows in its popularity. However, the most important aspect of quality that MongoDB covers is reliability; MongoDB is a distributed database at its core which means that it is available, scalable, and easily distributable across locations, thus making it well equipped for modern applications that require quick access to data at all times.\n",
    "\n",
    "MongoDB commands are fairly simple and easy to learn. Given below is an example that creates a new database called newDB:\n",
    "\n",
    "```\n",
    "    use newDB\n",
    "```"
   ]
  },
  {
   "cell_type": "markdown",
   "metadata": {},
   "source": [
    "## Apache CouchDB\n",
    "\n",
    "**CouchDB** is an open-sources NoSQL database management system that aims primarily to provide ease of use. CouchDB combines an intuitive document storage model with a powerful query engine to allow users to store their data safely on personal servers of with any leading cloud provider. In addition to this, CouchDB not only has the ability to store all types of data, but it also allows the web applications to conveniently extract this data without having to add translational commands since CouchDB supports the formatting web applications typically use."
   ]
  },
  {
   "cell_type": "markdown",
   "metadata": {},
   "source": [
    "## Redis\n",
    "\n",
    "**Redis** is and open-source in-memory data structure store thatis often used as a database. It supports all kinds of data structures ranging from strings, hashes, lists, and sets to sorted sets with range queries, bitmaps, hyperloglogs, and geospatial indexes with radius queries and streams. This means that Redis provides a wide variety of data structures that can be used to store your application data in the most optimal way according to how the data is structured. In addition to this, because Redis stores data in-memory, it allows for fast data retrievals and, therefore, significantly speeds up the process of responding to user requests.\n",
    "\n",
    "![NoSQL Databases Logos](Images/LogoNoSqlDatabases.png)"
   ]
  },
  {
   "cell_type": "markdown",
   "metadata": {},
   "source": [
    "# **Web Caching**"
   ]
  },
  {
   "cell_type": "markdown",
   "metadata": {},
   "source": [
    "## Introduction to Web Caching\n",
    "\n",
    "Web caching is a design feature of the HTTP protocol that is meant to minimize the amount of traffic an application is handling at any given point in order to improve the responsiveness of the web application, as perceived by users, as a whole. In order to do this, caches are used at each level starting from the server itself all the way to users’ browsers, and each of them is meant to store data that users are very likely to request.\n",
    "\n",
    "Essentially, web caching works by caching HTTP responses for certain requests according to a probabilistic analysis of requests that are frequently observed on the server. Subsequent requests for cached content can then be fulfilled from a cache closer to the user instead of having to send the request all the way back to the web server, which then makes a call to the database for the required data.\n",
    "\n",
    "![How Caching Works](Images/HowCachingWorks.svg)"
   ]
  },
  {
   "cell_type": "markdown",
   "metadata": {},
   "source": [
    "## Benefits of Caching\n",
    "\n",
    "There are multiple benefits of web caching, each of which has been enumerated below:\n",
    "\n",
    "1. Data can be cached at several different points in the path between the client and the server. When the required data is cached closer to the client, requests do not increase network traffic too much since they are resolved much earlier along the path.\n",
    "\n",
    "2. Extending on the first point, since requests are resolved earlier along the path, responses are sent back quicker as well, thus improving the responsiveness of web applications.\n",
    "\n",
    "3. Aggressive caching along the network can also allow the application to sustain higher loads of data since a significant chunk of the data can be stored within caches.\n",
    "\n",
    "4. In case the server has trouble accessing the database for some reason, data that has been stored in caches can still be served to end-users.\n"
   ]
  },
  {
   "cell_type": "markdown",
   "metadata": {},
   "source": [
    "## MongoDB\n",
    "\n",
    "MongoDB has inbuilt mechanisms to handle caching and keeps the most recently used data in the RAM. If users have created indexes for their queries and the working data set fits in the RAM, MongoDB serves all queries from memory. However, MongoDB does not cache query results in order to return results from the cache for all future identical queries."
   ]
  },
  {
   "cell_type": "markdown",
   "metadata": {},
   "source": [
    "## Redis\n",
    "\n",
    "Redis, as we have already learned, stores all data in memory by default, and it is often used as a cache itself. It is, therefore, optimal to use as a database system in modern web applications."
   ]
  },
  {
   "cell_type": "markdown",
   "metadata": {},
   "source": [
    "## CouchDB\n",
    "\n",
    "CouchDB, like the other two NoSQL databases we have discussed, aims to cache all the data it possibly can. The smaller the file size, the more of the file can be cached by CouchDB. It is, therefore, a good idea to think about the data you want to store when it comes to NoSQL databases so that your web application can run seamlessly and unburdened by unnecessary amounts of data."
   ]
  },
  {
   "cell_type": "markdown",
   "metadata": {},
   "source": [
    "## Memcached\n",
    "\n",
    "**Memcached** is an open-source, high-performance, distributed memory object caching system that is intended to speed up dynamic web applications by alleviating database load. Memcached stores key-value pairs of data from database calls in memory in order to speed up the database lookup process. The underlying idea of Memcached is that it allows you to take memory from parts of your system where you have more than you need and make it accessible to areas where you have less than you need. Memcached is, therefore, a highly useful tool."
   ]
  }
 ],
 "metadata": {
  "kernelspec": {
   "display_name": "Python 3",
   "language": "python",
   "name": "python3"
  },
  "language_info": {
   "codemirror_mode": {
    "name": "ipython",
    "version": 3
   },
   "file_extension": ".py",
   "mimetype": "text/x-python",
   "name": "python",
   "nbconvert_exporter": "python",
   "pygments_lexer": "ipython3",
   "version": "3.8.1"
  }
 },
 "nbformat": 4,
 "nbformat_minor": 4
}
