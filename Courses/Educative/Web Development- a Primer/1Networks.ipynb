{
 "cells": [
  {
   "cell_type": "markdown",
   "metadata": {},
   "source": [
    "# **What is the Web?**"
   ]
  },
  {
   "cell_type": "markdown",
   "metadata": {},
   "source": [
    "Websites are hosted on **Servers**. When you are interacting with a webpage on the Internet you are exchanging data with the server that the site is hosted on. **Client** is the device that you use to access the webpage."
   ]
  },
  {
   "cell_type": "markdown",
   "metadata": {},
   "source": [
    "## Network Layers"
   ]
  },
  {
   "cell_type": "markdown",
   "metadata": {},
   "source": [
    "The web is an immensely intricate and widespread network. Machines within the network are divided into abstract layers, each performing a specific task that aids in the overall communcation process.\n",
    "\n",
    "1. Application Layer\n",
    "\n",
    "2. Transport Layer\n",
    "\n",
    "3. Network Layer\n",
    "\n",
    "4. Data Link Layer\n",
    "\n",
    "5. Physical Layer\n",
    "\n",
    "![End System Layers](Images/EndSystemLayers.svg)\n"
   ]
  },
  {
   "cell_type": "markdown",
   "metadata": {},
   "source": [
    "## Physical Layer\n",
    "\n",
    "The Physical layer of a machine refers to the physical wiring and circuits that go into making the machine available on the network."
   ]
  },
  {
   "cell_type": "markdown",
   "metadata": {},
   "source": [
    "## Data Link Layer\n",
    "\n",
    "The data link layer is responsible for transmitting data from any given machine to a device or machine that is exactly one link away."
   ]
  },
  {
   "cell_type": "markdown",
   "metadata": {},
   "source": [
    "## Network Layer\n",
    "\n",
    "The metwork later is responsible for connecting any two machines on the Internet. It provides global connectivity and allows for end-systems to communicate with one another on a large scale, beyond what the data link layer has to offer."
   ]
  },
  {
   "cell_type": "markdown",
   "metadata": {},
   "source": [
    "## Transport Layer\n",
    "\n",
    "The transport later is responsible for connecting applications on the Internet. It demultiplexes data coming in from a single source and transmits it to the application it is intended for. The basic purpose of the transport layer in the context of the web is that it provides process-to-process communcation; it allows two individual processes on either the same machine or separate machines to send messages to each other. To do so, it uses **sockets**, which are essentially just the gateway to a proccess. In other words sockets are the means through which messages are received and sent out by a process."
   ]
  },
  {
   "cell_type": "markdown",
   "metadata": {},
   "source": [
    "## Application Layer\n",
    "\n",
    "The application layer is responsible for process-to-process communication across the Internet. It is the topmost layer in the hierarchy, and the appplication itself is built on top of this. The application later provides a communication interface and end-user services to the application for its communication with single processes."
   ]
  },
  {
   "cell_type": "markdown",
   "metadata": {},
   "source": [
    "# **How Does It Work?**"
   ]
  },
  {
   "cell_type": "markdown",
   "metadata": {},
   "source": [
    "## Switches to connect devices\n",
    "\n",
    "Clients send messages to servers requestiong data, and servers respond with the required data. How is this data transferred? \n",
    "\n",
    "**Switches** are devices that facilitate the connection of each device to every other device on the network. The devices themselves are reffered to as **end-systems**.\n",
    "\n",
    "End-systems are connected to switches through **links** and all of the switches are connected to each other. Every end-system on the Internet is connected to every other end-system.\n",
    "\n",
    "![Web Structure](Images/WebStructure.svg)\n"
   ]
  },
  {
   "cell_type": "markdown",
   "metadata": {},
   "source": [
    "## Routers\n",
    "\n",
    "*Routers* have a similar function to switches in that they also connect end systems to the rest of the web. However, routers are actually very different since they have the additional capability of allowing lookups for destination addresses and determining the shortest or the least busy path from the source of a packet to its destination. Therefore, routers are a more powerful version of switches and the Internet is comprised of a mix of both that facilitate the transfer of data between end-systems.\n",
    "\n",
    "![RouterAnatomy](Images/RouterAnatomy.svg)"
   ]
  },
  {
   "cell_type": "markdown",
   "metadata": {},
   "source": [
    "## Data packets\n",
    "\n",
    "Now that we have established how the Internet is structured to ensure connectivity let's talk about how data is actually transported across the network. This is done by dividing the data, which is just a set of bits, that needs to be transferred into several smaller chunks of bits known as **Packets** and then sending each packet to its destination independently. The reason for this is that you cannot always send large amounts of data in a single packet because it is highly likely that data in large packets get corrupted on the path from its source to its destination due to a bit flip during transmissions. It is, therefore, more efficient and reliable to send multiple smaller packets."
   ]
  },
  {
   "cell_type": "markdown",
   "metadata": {},
   "source": [
    "## TCP\n",
    "\n",
    "Since it is important for clients and servers across the network to be able to understand the same language, there are certain protocols that dictate the communication between devices on the Internet. The primarily used protocols that dictate the communication between devices on the Internet. The primarily used protocol for communication between a web application and a browser is referred to as the Transmission Control Protocol (TCP). TCP is a *transport layer* protocol that takes the responsibility of transmitting data and ensures reliable data transfer between clients and servers across the web. The way TCP does this is by adding additional information to data packets that allow for packet authentication and by allowing the exchange of acknowledgement messages between the client and server to confirm data transmissions.\n",
    "\n",
    "The TCP protocols starts with a 3-way handshake. THe handshake allows both ends (server and client) to initiate and maintain several TCP connections at once. Have a look at the simplified diagram of the TCP 3-way handshake below."
   ]
  },
  {
   "cell_type": "markdown",
   "metadata": {},
   "source": [
    "## HTTP & HTTPS\n",
    "\n",
    "HyperTerxt Transfer Protocol (HTTP), is an application layer protocol that dictates how the messages aclient and server echange ont the web are structured as well as how they are exchanged.The client program and server program talk to each other by exchanging HTTP messages, and the benefit of HTTP is that it encured messages are being delivered intact and in time.\n",
    "\n",
    "The more common structure of URLs is\n",
    "\n",
    "**https**://www.educative.io/. HTTPS is HyperText Transfer Protocol Secure, and is is basically just the secure version of HTTP.\n",
    "\n",
    "![HTTP](Images/HTTP.svg)"
   ]
  },
  {
   "cell_type": "markdown",
   "metadata": {},
   "source": [
    "## Ports\n",
    "\n",
    "**Ports** are the endpoints of the communication between clients and servers. In other words, ports are where messages from the network arrive on and end-system. Sockets are opened on ports to allow processes to send an receive messages. Ports are designated by numbers, all ports below 1024 are associated with a specific protocol each by default. The port number for HTTP is 80, this means that any messages you send or receive on the web come in to and leave your machine on a socket at port 80. Ports above 1024 are **open ports** available to programmers to use for any process they want to communicate with a network. They can build sockets on these ports and define the structure and type of messages this socket can cater to through *socket programming*. Socket Programming is and aspect of Computer Networks that is beyond the scope of this discussion, but is a highly useful skill to get under your belt."
   ]
  },
  {
   "cell_type": "markdown",
   "metadata": {},
   "source": [
    "# **How Data Finds its Way?**"
   ]
  },
  {
   "cell_type": "markdown",
   "metadata": {},
   "source": [
    "## Internet protocols & IP addresses\n",
    "\n",
    "Internet Protocols, more commonly known as IP, is a network layer protocol that is responsible for assigning addresses to devices in order to give them unique identities that make them reachable and discorverable. Each device on the Internet has a unique IP address that other deivces use to connect with it. You can find your own IP address by using the following command line instruction: \n",
    "\n",
    "\n",
    "***ipconfig***\n",
    "\n",
    "What this means is that once you have your website live on a server, users will be able to connect with it through the IP address of the server and receive data. You may be wondering now where the IP address comes in if you reach websites through URLs. Well, that’s where DNS comes in. Routers across the web do not store URLs for every single website hosted on the Internet; they only know IP addresses and forward packets towards their destinations based on them. Users, however, only know URLs, or domain names, for the websites they are visiting. To bridge this clear gap of information, the Internet makes use of **DNS servers**, which serve as translational intermediaries between end-systems and the routers that serve to forward data packets coming from them to their destinations. The process of making a lookup for a domain name on a DNS server and obtaining its corresponding IP address is referred to as a **DNS resolution**."
   ]
  },
  {
   "cell_type": "markdown",
   "metadata": {},
   "source": [
    "## DNS lookups\n",
    "\n",
    "### Need More Information about DNS lookups"
   ]
  },
  {
   "cell_type": "markdown",
   "metadata": {},
   "source": [
    "# **Life of a Packet**"
   ]
  },
  {
   "cell_type": "markdown",
   "metadata": {},
   "source": [
    "## Packets through the Internet\n",
    "\n",
    "This video gives a nice introduction to how packets travel through the Internet. This video is a bit dated, and some terminology used in it might not exactly be up-to-date, but the underpinnings are essentially the same today. It is a nice overview for beginners.\n",
    "\n",
    "https://youtu.be/9BGWrLiT9qs"
   ]
  }
 ],
 "metadata": {
  "kernelspec": {
   "display_name": "Python 3",
   "language": "python",
   "name": "python3"
  },
  "language_info": {
   "codemirror_mode": {
    "name": "ipython",
    "version": 3
   },
   "file_extension": ".py",
   "mimetype": "text/x-python",
   "name": "python",
   "nbconvert_exporter": "python",
   "pygments_lexer": "ipython3",
   "version": "3.8.1"
  }
 },
 "nbformat": 4,
 "nbformat_minor": 4
}
