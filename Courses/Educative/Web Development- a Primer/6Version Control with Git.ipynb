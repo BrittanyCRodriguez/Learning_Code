{
 "cells": [
  {
   "cell_type": "markdown",
   "metadata": {},
   "source": [
    "# **The Command Line Interface**"
   ]
  },
  {
   "cell_type": "markdown",
   "metadata": {},
   "source": [
    "## What is the terminal?\n",
    "\n",
    "The **command-line interface** is a tool into which you can type text commands to make the computer perform specific tasks in contrast to using a graphical user interface through pointing and clicking on menus and buttons with a mouse.\n",
    "\n",
    "Since the command line interface allows you to control the computer directly by typing commands, many tasks can be performed more efficiently. For example, if you want to make one change in the names of around 2000 files, you can use a for loop on the command line and change the names of all of them in a few seconds. Therefore basic knowledge of the command line is an absolute essential.\n",
    "\n",
    "The user interface that accepts typed commands and displays data on the screen is called a **shell**. There is a wide variety of shells that you can choose from, but the most common is the **Bash shell** (https://www.gnu.org/software/bash/), which is the default on Linux and Mac systems in the Terminal application. Windows systems only include the anemic Command Prompt application by default, which is nowhere near as powerful as Bash. If you’re going to follow along on your windows machine, however, consider installing **cygwin** (https://www.cygwin.com/).\n",
    "\n",
    "Open up a shell; you will see a blank (usually black) screen with a cursor to the right of something like:\n",
    "\n",
    "```accountname@machinname:~$```\n",
    "\n",
    "Let’s finally look at a few commands now!"
   ]
  },
  {
   "cell_type": "markdown",
   "metadata": {},
   "source": [
    "### Listing files and directories\n",
    "\n",
    "Type ls into a shell and hit enter (or try it below!) and watch the magic happen.\n",
    "1\n",
    "``` \n",
    "ls\n",
    "```\n",
    "Output\n",
    "\n",
    "``` \n",
    "__ed_script.sh\n",
    "__ed_stderr.txt\n",
    "__ed_stdout.txt\n",
    "main.sh\n",
    "output\n",
    "```\n",
    "\n",
    "Voila! All the files and directories in your current directory get printed."
   ]
  },
  {
   "cell_type": "markdown",
   "metadata": {},
   "source": [
    "### Checking what directory you are in\n",
    "\n",
    "Also, to check what directory you are currently in, type **pwd**, and hit enter. Here is an example:\n",
    "\n",
    "```\n",
    "pwd\n",
    "```\n",
    "\n",
    "Output:\n",
    "\n",
    "```\n",
    "/usercode\n",
    "```\n",
    "\n"
   ]
  },
  {
   "cell_type": "markdown",
   "metadata": {},
   "source": [
    "### Changing directories\n",
    "\n",
    "You can change to a directory that exists within your current directory with the command,\n",
    "\n",
    "```\n",
    "cd nameOfDirectory\n",
    "```\n",
    "you can move back to a parent directory with the command,\n",
    "\n",
    "```\n",
    "cd ..\n",
    "```\n",
    "\n",
    "```\n",
    "ls\n",
    "cd sampleDirectory\n",
    "ls\n",
    "cd ..\n",
    "ls\n",
    "```\n",
    "Output:\n",
    "\n",
    "```\n",
    "__ed_script.sh\n",
    "__ed_stderr.txt\n",
    "__ed_stdout.txt\n",
    "main.sh\n",
    "output\n",
    "sampleDirectory\n",
    "__ed_script.sh\n",
    "__ed_stderr.txt\n",
    "__ed_stdout.txt\n",
    "main.sh\n",
    "output\n",
    "sampleDirectory\n",
    "```\n"
   ]
  },
  {
   "cell_type": "markdown",
   "metadata": {},
   "source": [
    "### Reading files\n",
    "\n",
    "You can print files to the terminal with the command,\n",
    "\n",
    "```\n",
    "cat nameOfFile\n",
    "```"
   ]
  },
  {
   "cell_type": "markdown",
   "metadata": {},
   "source": [
    "### Creating files\n",
    "\n",
    "You can create empty files with the command,\n",
    "\n",
    "```\n",
    "touch nameOfFile\n",
    "```\n",
    "\n",
    "```\n",
    "touch nameOfFile.txt\n",
    "ls\n",
    "```\n",
    "\n",
    "Output:\n",
    "```\n",
    "__ed_script.sh\n",
    "__ed_stderr.txt\n",
    "__ed_stdout.txt\n",
    "main.sh\n",
    "nameOfFile.txt\n",
    "output\n",
    "```"
   ]
  },
  {
   "cell_type": "markdown",
   "metadata": {},
   "source": [
    "### Creating a new directory\n",
    "\n",
    "You can create a new directory with the command,\n",
    "\n",
    "```\n",
    "mkdir newFolder\n",
    "```\n",
    "\n",
    "```\n",
    "mkdir newFolder\n",
    "ls\n",
    "```\n",
    "\n",
    "Output:\n",
    "```\n",
    "__ed_script.sh\n",
    "__ed_stderr.txt\n",
    "__ed_stdout.txt\n",
    "main.sh\n",
    "newFolder\n",
    "output\n",
    "```"
   ]
  },
  {
   "cell_type": "markdown",
   "metadata": {},
   "source": [
    "### Moving files\n",
    "\n",
    "You can move files from one directory to another like so,\n",
    "\n",
    "```\n",
    "mv path/to/file/filename new/path\n",
    "mv path/to/file/new/path/filename .\n",
    "mv filename ..\n",
    "```\n",
    "\n",
    "Note that **.** indicates the current directory, so the second command above moves the file from **path/to/file/new/path/filename** to the current directory. As mentioned previously, **..** indicates the parent directory, so the last command moves the file **filename** to the parent directory."
   ]
  },
  {
   "cell_type": "markdown",
   "metadata": {},
   "source": [
    "### Removing files\n",
    "\n",
    "You can remove files with the command\n",
    "\n",
    "```\n",
    "rm fileName\n",
    "```\n",
    "\n",
    "```\n",
    "touch fileName # Creating a file\n",
    "ls\n",
    "rm fileName # Removing it\n",
    "ls\n",
    "```\n",
    "Output:\n",
    "```\n",
    "__ed_script.sh\n",
    "__ed_stderr.txt\n",
    "__ed_stdout.txt\n",
    "fileName\n",
    "main.sh\n",
    "output\n",
    "__ed_script.sh\n",
    "__ed_stderr.txt\n",
    "__ed_stdout.txt\n",
    "main.sh\n",
    "output\n",
    "```\n"
   ]
  },
  {
   "cell_type": "markdown",
   "metadata": {},
   "source": [
    "# **What is Git and Why Use it?**"
   ]
  },
  {
   "cell_type": "markdown",
   "metadata": {},
   "source": [
    "## What is version control?\n",
    "\n",
    "Managing your project’s files. For example, when building a website, you will have a lot of files, like CSS, HTML, JS, images."
   ]
  },
  {
   "cell_type": "markdown",
   "metadata": {},
   "source": [
    "## What is Git?\n",
    "\n",
    "Git is the world’s most popular version control system."
   ]
  },
  {
   "cell_type": "markdown",
   "metadata": {},
   "source": [
    "## Why Git?\n",
    "\n",
    "Git maintains a complete history of the changes made to any project, it makes collaboration simpler and more productive, and it allows working on multiple features at once."
   ]
  },
  {
   "cell_type": "markdown",
   "metadata": {},
   "source": [
    "### History\n",
    "\n",
    "Git keeps track of all the changes we make to our project. Suppose you change part of the CSS, and the layout looks great, but a few months later, that change causes the layout to break in a few pages. Instead of having to remember what you changed a few months ago, Git would have a record of exactly which lines were removed/added/modified, which makes fixing the issue a lot easier. Furthermore, you can revert changes with Git. Nothing is ever lost or is ever final."
   ]
  },
  {
   "cell_type": "markdown",
   "metadata": {},
   "source": [
    "### Collaboration\n",
    "\n",
    "Git makes collaboration in a team very easy and increases productivity.\n",
    "\n",
    "Suppose you and a team member are working together on some HTML code. In a Git-less scenario, you would write your part of the code, email the file to them; they would write their part and send it back to you. However, while they are doing their part, you won’t be able to continue working on the code. If you do, you’d have to figure out what exactly your fellow team member changed when they send it back to you and somehow merge that onto your file with your new code. This combing for changes and merging is not only tedious work but is prone to human error. Furthermore, the time spent doing so can be spent more productively on actually writing code. The good news is that Git manages these changes and merges them for you so you and several team members can work on projects simultaneously without ever having to worry about accidentally deleting someone else’s work or merging incorrectly."
   ]
  },
  {
   "cell_type": "markdown",
   "metadata": {},
   "source": [
    "### Feature branches\n",
    "\n",
    "Git allows you to work on and ship multiple features simultaneously. For example, suppose you want to update the way your website’s navigation bar looks, and you want to add a feature that allows users to comment on your posts. These constitute as separate features: the new navigation bar and the comments. Now in a Git-less situation, if you start working on both features and you finish the navigation bar in a week but need 3 more weeks to enable comments, you won’t be able to make your navigation bar live until the comments feature is done as well. So you would have to work on features sequentially if you want to make them live as they get completed, which means a loss in productivity.\n",
    "\n",
    "Git, however, has the ability to make separate branches for each feature. These branches can be worked on simultaneously, and when once done, it can be merged back into the main branch."
   ]
  },
  {
   "cell_type": "markdown",
   "metadata": {},
   "source": [
    "### Git in the industry\n",
    "\n",
    "Git is the industry standard, and most employers assume that you are well versed in Git if you apply for a software job. Furthermore, it can make your time more productive and less prone to data loss even if you are working alone."
   ]
  },
  {
   "cell_type": "markdown",
   "metadata": {},
   "source": [
    "# **Using Git Locally**"
   ]
  },
  {
   "cell_type": "markdown",
   "metadata": {},
   "source": [
    "## Git jargon\n",
    "\n",
    "Git uses very particular vocabulary, and familiarity with it will make it easier for you to communicate with your team members and the online community. Here are some common terms,"
   ]
  },
  {
   "cell_type": "markdown",
   "metadata": {},
   "source": [
    "### Repository\n",
    "\n",
    "To put it simply, a project is a repository. Git repositories or ‘repos’ contain all of the code and version history of a certain project."
   ]
  },
  {
   "cell_type": "markdown",
   "metadata": {},
   "source": [
    "### Working directory\n",
    "\n",
    "The working directory is the folder on your local computer where your project exists. Git would track any changes made within that folder."
   ]
  },
  {
   "cell_type": "markdown",
   "metadata": {},
   "source": [
    "### Commit\n",
    "\n",
    "Git does not save or store any changes made to the files within your working directory until you ‘commit’ it. Commits save the changes you made to Git itself."
   ]
  },
  {
   "cell_type": "markdown",
   "metadata": {},
   "source": [
    "### Staging\n",
    "\n",
    "However, suppose you made changes to 8 files within your working directory, but you only want to commit 4 of them because the other 4 are buggy or not complete yet. How do you commit only 4? Well, you put them in the ‘staging area’ after which you commit. Staging a file means that you have marked it for a commit."
   ]
  },
  {
   "cell_type": "markdown",
   "metadata": {},
   "source": [
    "## Checking if Git is installed\n",
    "\n",
    "If you’re following along on a local set up (you don’t have to, but just in case you are), start by checking if Git exists on your system with the following command.\n",
    "\n",
    "```\n",
    "git --version\n",
    "```\n",
    "\n",
    "Output:\n",
    "\n",
    "```\n",
    "git version 2.7.4\n",
    "```\n",
    "\n",
    "If it is installed; great, if not, install it for Mac (https://www.atlassian.com/git/tutorials/install-git) and Windows (https://git-scm.com/download/win) if you’d like. Otherwise, follow along here!"
   ]
  },
  {
   "cell_type": "markdown",
   "metadata": {},
   "source": [
    "## Setting up and starting a new Git repo\n",
    "\n",
    "To mark a directory as a Git working directory, call the following command in that directory\n",
    "\n",
    "```\n",
    "git config --global user.email \"you@example.com\" \n",
    "git config --global user.name \"Your Name\"\n",
    "git init\n",
    "```\n",
    "\n",
    "Output: \n",
    "\n",
    "```\n",
    "Initialized empty Git repository in /usercode/.git/\n",
    "```\n",
    "\n",
    "Git should be tracking any changes we make within this folder now. So let’s add a file and see if Git notices anything with\n",
    "\n",
    "```\n",
    "git status\n",
    "```\n",
    "\n",
    "```\n",
    "git init\n",
    "touch index.html\n",
    "git status\n",
    "```\n",
    "\n",
    "Output:\n",
    "```\n",
    "Initialized empty Git repository in /usercode/.git/\n",
    "On branch master\n",
    "\n",
    "Initial commit\n",
    "\n",
    "Untracked files:\n",
    "  (use \"git add <file>...\" to include in what will be committed)\n",
    "\n",
    "\t__ed_script.sh\n",
    "\t__ed_stderr.txt\n",
    "\t__ed_stdout.txt\n",
    "\tindex.html\n",
    "\tmain.sh\n",
    "\n",
    "nothing added to commit but untracked files present (use \"git add\" to track)\n",
    "```\n",
    "\n",
    "Also, note that each of our coding playgrounds is like an individual virtual machine, that gets created and destroyed upon execution, which is why we have to initialize a repo each time! This is also why so many ‘random’ files already exist. Also, to make the console output less cluttered, pass the quiet flag like -q"
   ]
  },
  {
   "cell_type": "markdown",
   "metadata": {},
   "source": [
    "### Adding new files to the staging area\n",
    "\n",
    "Add new files to the staging area with:\n",
    "\n",
    "```\n",
    "git add folder/that/contains/files\n",
    "```\n",
    "A Git status call on line 4 would show us all the changes to be committed.\n",
    "\n",
    "```\n",
    "git init\n",
    "touch index.html\n",
    "git status\n",
    "```\n",
    "Output:\n",
    "```\n",
    "On branch master\n",
    "\n",
    "Initial commit\n",
    "\n",
    "Changes to be committed:\n",
    "  (use \"git rm --cached <file>...\" to unstage)\n",
    "\n",
    "\tnew file:   __ed_script.sh\n",
    "\tnew file:   __ed_stderr.txt\n",
    "\tnew file:   __ed_stdout.txt\n",
    "\tnew file:   index.html\n",
    "\tnew file:   main.sh\n",
    "\n",
    "```"
   ]
  },
  {
   "cell_type": "markdown",
   "metadata": {},
   "source": [
    "### Committing the files\n",
    "\n",
    "Commit the files with,\n",
    "\n",
    "```\n",
    "git commit -m \"a message to commit with\"\n",
    "```\n",
    "\n",
    "```\n",
    "git init\n",
    "touch index.html\n",
    "git status\n",
    "```\n",
    "Output:\n",
    "```\n",
    "[master (root-commit) f5b8d2d] Our first commit!\n",
    " 5 files changed, 12 insertions(+)\n",
    " create mode 100644 __ed_script.sh\n",
    " create mode 100644 __ed_stderr.txt\n",
    " create mode 100644 __ed_stdout.txt\n",
    " create mode 100644 index.html\n",
    " create mode 100644 main.sh\n",
    "```"
   ]
  },
  {
   "cell_type": "markdown",
   "metadata": {},
   "source": [
    "### Checking commit history\n",
    "\n",
    "to print out Git’s commit history, type\n",
    "\n",
    "```\n",
    "git log\n",
    "```\n",
    "The output is something like\n",
    "\n",
    "```\n",
    "__ed_create_user.sql\n",
    "__ed_destroy_user.sql\n",
    "__ed_javaRunner.sh\n",
    "__ed_script.sh\n",
    "__ed_sql_runner.sh\n",
    "index.html main.sh output\n",
    " \n",
    "commit 3094b0bcf3483de4955be7c4c15a0b65c3e765b3 \n",
    "Author: Your Name <you@example.com> \n",
    "Date: Wed Jan 2 07:38:11 2019 +0000 Our first commit!\n",
    "```\n",
    "\n",
    "Where the first few lines represent files that were modified or added, the numbers after the **commit** field represent the hash value of the commit (a unique string that identifies the commit). The **Author**and **Date** fields contain information about the author, time of commit, and the message the author sent with the commit.\n",
    "\n",
    "```\n",
    "git init -q\n",
    "touch index.html\n",
    "git add .\n",
    "git commit -m \"Our first commit!\" -q\n",
    "git log\n",
    "```\n",
    "Output:\n",
    "\n",
    "```\n",
    "commit 72d240c19723259c311bc4a1133fd959cef6fbe8\n",
    "Author: Your Name <you@example.com>\n",
    "Date:   Mon Jun 1 17:42:48 2020 +0000\n",
    "\n",
    "    Our first commit!\n",
    "```\n"
   ]
  },
  {
   "cell_type": "markdown",
   "metadata": {},
   "source": [
    "### Reverting to a previous commit\n",
    "\n",
    "To revert your working directory to any previous commit, type the command\n",
    "\n",
    "```\n",
    "git checkout hashvalue\n",
    "```\n",
    "\n",
    "We can’t try reverting with hash values on our platform because a different one is generated for each time the code is run. So we’ll demonstrate reverting to the previous state in the following. Notice how even though index.html is removed on line 5, it is restored with Git checkout.\n",
    "\n",
    "```\n",
    "git init -q\n",
    "touch index.html\n",
    "git add .\n",
    "git commit -m \"Our first commit!\" -q\n",
    "git log\n",
    "```\n",
    "Output:\n",
    "\n",
    "```\n",
    "__ed_script.sh\n",
    "__ed_stderr.txt\n",
    "__ed_stdout.txt\n",
    "index.html\n",
    "main.sh\n",
    "output\n",
    "```\n"
   ]
  },
  {
   "cell_type": "markdown",
   "metadata": {},
   "source": [
    "# **Repo Hosting**"
   ]
  },
  {
   "cell_type": "markdown",
   "metadata": {},
   "source": [
    "## What is repo hosting?\n",
    "\n",
    "As discussed in the previous lesson, Git can be used to version control your project on your local machine; however, it cannot be used to collaborate with others and does not safeguard your project if you lose your machine.\n",
    "\n",
    "So, to ensure that your project remains accessible even if you lose your machine, you can upload your code to a server. This is called ‘repo hosting’ and many services are available for free that provide this. For example, GitHub."
   ]
  },
  {
   "cell_type": "markdown",
   "metadata": {},
   "source": [
    "## GitHub\n",
    "\n",
    "Before we get into GitHub, we’re going to stress upon the fact that Git and GitHub are NOT the same! Git is a version control system, whereas GitHub is a repository hosting service! Okay, so let’s get started."
   ]
  },
  {
   "cell_type": "markdown",
   "metadata": {},
   "source": [
    "### Creating a GitHub repo from an existing Git repo\n",
    "\n",
    "First, sign up to GitHub (https://github.com/). Create a free account and sign in. Then, create a new repo by clicking the **+** symbol and ‘new repository’ on the top right as shown below.\n",
    "\n",
    "![New Repo](Images/NewRepo.png)\n",
    "\n",
    "Then give a name to your repo and create it! Now, open up a command-line terminal and change directories to an existing Git repo. Then at the top of your GitHub repository’s Quick Setup page, click to copy the remote repository URL. It’ll look something like https://github.com/username/repo-name. Then, add the URL for the remote repository like so,\n",
    "\n",
    "```\n",
    "git remote add origin https://github.com/username/repo-name\n",
    "# Sets the new remote\n",
    "```\n",
    "And finally, push the changes in your local repository to GitHub like so:\n",
    "\n",
    "```\n",
    "git remote add origin https://github.com/username/repo-name\n",
    "# Sets the new remote\n",
    "```"
   ]
  },
  {
   "cell_type": "markdown",
   "metadata": {},
   "source": [
    "### Creating a branch\n",
    "\n",
    "According to the GitHub Glossary (https://help.github.com/articles/github-glossary/#branch) is a “branch is a parallel version of a repository. It is contained within the repository but does not affect the primary or master branch allowing you to work freely without disrupting the “live” version. When you’ve made the changes you want to make, you can merge your branch back into the master branch to publish your changes. For more information, see ‘About branches.’” Branches are primarily used to create new features, and they can be merged back into the master branch (the main branch) after making a pull request."
   ]
  },
  {
   "cell_type": "markdown",
   "metadata": {},
   "source": [
    "### Opening a pull request\n",
    "\n",
    "A pull request is a proposed change to the repo submitted by a user and to be reviewed and accepted or rejected by the repo’s collaborators. Pull requests have their own discussion forum."
   ]
  },
  {
   "cell_type": "markdown",
   "metadata": {},
   "source": [
    "### Merging changes\n",
    "\n",
    "Once a pull request is approved, it can be merged with the master or branch or other branches.\n",
    "\n",
    "Have a look at the diagram below for a clearer picture!\n",
    "\n",
    "![Git Hub Flow](Images/GitHubFlow.png)"
   ]
  },
  {
   "cell_type": "markdown",
   "metadata": {},
   "source": [
    "## Deploying GitHub code to a hosting platform\n",
    "\n",
    "Now that we’ve covered some GitHub basics, you’re probably wondering about the next step: how to get the code from GitHub to the actual server(s) that host(s) your website. For that, check out our course: Post Web: From Local to Live (https://www.educative.io/collection/10370001/5654729883385856/)."
   ]
  },
  {
   "cell_type": "code",
   "execution_count": null,
   "metadata": {},
   "outputs": [],
   "source": []
  }
 ],
 "metadata": {
  "kernelspec": {
   "display_name": "Python 3",
   "language": "python",
   "name": "python3"
  },
  "language_info": {
   "codemirror_mode": {
    "name": "ipython",
    "version": 3
   },
   "file_extension": ".py",
   "mimetype": "text/x-python",
   "name": "python",
   "nbconvert_exporter": "python",
   "pygments_lexer": "ipython3",
   "version": "3.8.1"
  }
 },
 "nbformat": 4,
 "nbformat_minor": 4
}
