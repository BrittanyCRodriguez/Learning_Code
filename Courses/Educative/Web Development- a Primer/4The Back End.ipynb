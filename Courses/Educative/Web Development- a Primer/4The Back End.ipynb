{
 "cells": [
  {
   "cell_type": "markdown",
   "metadata": {},
   "source": [
    "# **What is the Back End?**\n",
    "\n",
    "The back end of a website loosely consists of a server, databases, and  APIs."
   ]
  },
  {
   "cell_type": "markdown",
   "metadata": {},
   "source": [
    "## What are Web Servers?\n",
    "\n",
    "A web server is a system that delivers content and services to users over the Internet. Web servers are exactly like regular computers except that they are more powerful and robust. Also, most servers don’t have a display like a monitor or a screen that most PCs do, but you can connect to them with SSH. To put it simply, SSH is a way to get another machine’s terminal on your own and is discussed in detail in our course on web deployment(https://www.educative.io/collection/page/10370001/5654729883385856/5704513654620160/). A web server can ‘host’ a website, i.e., the webserver will have all the code for the website on it: front and back and anyone with an Internet connection can access it with their machine to view the website.\n",
    "\n",
    "Technically, you can open up port 80 on your PC and host your website there. However, this is usually never done because a regular PC would not be able to handle the load of potentially thousands of client connections, it would put your personal data at risk, and you would have to keep it on with the server running 24/7. So web hosting services solve this problem."
   ]
  },
  {
   "cell_type": "markdown",
   "metadata": {},
   "source": [
    "## Web Hosting Services\n",
    "\n",
    "Web hosting companies provide space on a server that is owned or leased for use by clients, as well as providing Internet connectivity, usually in a data center. They typically charge a monthly fee for this service. A data center is a building that houses multiple servers. Data centers usually require extensive cooling and maintenance to keep the temperature of their machines down, which reduces crash rates and so increases profits. Facebook, for example, has some of the largest data centers in the world!\n",
    "\n",
    "![Servers](Images/Servers.png)\n",
    "\n",
    "Selecting the appropriate web hosting service plays a crucial role in web deployment, however, and is a critical decision."
   ]
  },
  {
   "cell_type": "markdown",
   "metadata": {},
   "source": [
    "## Web Server Operating Systems\n",
    "\n",
    "Just like your personal computer has an operating system, Windows, Mac OS, or Linux, servers require an operating system to function too. Although, most server operating systems are specialized for servers and so slightly different from desktop operating systems."
   ]
  },
  {
   "cell_type": "markdown",
   "metadata": {},
   "source": [
    "### Linux\n",
    "\n",
    "Linux is not one operating system. It is a group of free and open-source operating systems. Typically, Linux is packaged in a form known as a Linux distribution (or distro for short) for both desktop and server use. There are many flavors or distros of Linux for server use. For example,"
   ]
  },
  {
   "cell_type": "markdown",
   "metadata": {},
   "source": [
    "#### CentOS\n",
    "\n",
    "The benefit of using CentOS is that it is stable and seldom crashes. It is also the most popular distro for servers as of now, so it also has the benefit of great support from the web, which means you won’t be stuck on any issue for long.\n",
    "\n",
    "Furthermore, most Linux distros update regularly, but CentOS does not. The benefit of this is that once you get your server up and running, it will be in good shape for a long time without having to upgrade to a newer version regularly.\n",
    "\n",
    "As for the cons, you will have difficulties running newer packages and making use of the latest technologies. If you are looking to use the latest technology, CentOS might not be for you."
   ]
  },
  {
   "cell_type": "markdown",
   "metadata": {},
   "source": [
    "#### Debian\n",
    "\n",
    "Like CentOS, Debian does not update as frequently as well. Debian is also a community distro, which means that new versions of Debian are released only when the community arrives at a consensus. So every Debian release is thoroughly tested and reliable. There is only one kind of Debian available for you to download and install, which works on both server and desktop."
   ]
  },
  {
   "cell_type": "markdown",
   "metadata": {},
   "source": [
    "#### Ubuntu\n",
    "\n",
    "Ubuntu is the most popular Linux distro for the desktop. You might want to go with Ubuntu on your server if you want the advantage of being familiar with it!\n",
    "\n",
    "Here are some others that you might want to consider,\n",
    "\n",
    "** Windows Server 2019**\n",
    "https://www.microsoft.com/en-us/cloud-platform/windows-server\n",
    "\n",
    "**Mac OS X Server**\n",
    "https://www.apple.com/lae/osx/server/\n",
    "\n",
    "**Solaris**\n",
    "https://www.google.com/search?q=solaris+server\n"
   ]
  },
  {
   "cell_type": "markdown",
   "metadata": {},
   "source": [
    "# **Microservice Architecture**"
   ]
  },
  {
   "cell_type": "markdown",
   "metadata": {},
   "source": [
    "## Microservices\n",
    "\n",
    "However, most modern websites don’t rely on this style of web hosting, i.e., the code of all of the functionalities of the entire website does not exist on one server. Instead, websites are hosted on virtual machines (just think of them as computers within computers). Virtual machines can allow us to have several ‘machines’ on one server, each with different operating systems. So, the website is hosted on a server within a server, and that server delegates tasks to *other* servers.\n",
    "svg viewer\n",
    "\n",
    "![Conventional We](Images/ConventionalWebHosting.svg)\n",
    "\n",
    "In the diagram above, a client connects to one server, and it handles everything and responds.\n",
    "\n",
    "![Microservice Architecture](Images/MicroserviceArchitecture.svg)\n",
    "\n",
    "In the Microservices architecture, however, many virtual machines exist on one physical server, and each has a separate job. For example, one of them may be the ‘interface’ that the user interacts with, and it might connect to another for the database.\n",
    "\n",
    "According to the Microservices website, https://microservices.io/\n",
    "\n",
    "\"Microservices - also known as the microservice architecture - is an architectural style that structures an application as a collection of services that are\n",
    "\n",
    "1. Highly maintainable and testable\n",
    "2. Loosely coupled\n",
    "3. Independently deployable\n",
    "4. Organized around business capabilities.\n",
    "\n",
    "The microservice architecture enables the continuous delivery/deployment of large, complex applications. It also enables an organization to evolve its technology stack.\"\n",
    "\n",
    "\n",
    "\n"
   ]
  },
  {
   "cell_type": "markdown",
   "metadata": {},
   "source": [
    "# **Back-End Programming**"
   ]
  },
  {
   "cell_type": "markdown",
   "metadata": {},
   "source": [
    "## What do Backend Engineers do?\n",
    "\n",
    "Back end engineers program servers to process user requests and respond with the requested resources. They also write code to process and store user data."
   ]
  },
  {
   "cell_type": "markdown",
   "metadata": {},
   "source": [
    "### Efficient Storage and Delivery of Information\n",
    "\n",
    "Data that pertains to a website has to be stored in a database and delivered upon request. Consider Amazon’s database of items; if their database query system becomes inefficient at any point, they’ll lose customers."
   ]
  },
  {
   "cell_type": "markdown",
   "metadata": {},
   "source": [
    "### Customized user experience\n",
    "\n",
    "Servers often store and use information about clients to provide a tailored user experience. For example, many sites store credit card details so that the information doesn’t have to be entered again."
   ]
  },
  {
   "cell_type": "markdown",
   "metadata": {},
   "source": [
    "### Controlled access to content\n",
    "\n",
    "Backend programming entails restricting access to information appropriately. For example, in a ride-hailing application such as Uber, one user should not be able to view another’s car travel history."
   ]
  },
  {
   "cell_type": "markdown",
   "metadata": {},
   "source": [
    "### Store session/state information\n",
    "\n",
    "Backend engineers also do user session handling, i.e., a string is associated with each user that visits the website, and data associated with the string such as their emails or order history are saved and displayed when the user visits again. Another example is saving the state of a simple game so that the user can go to the site again and carry on from where they left it."
   ]
  },
  {
   "cell_type": "markdown",
   "metadata": {},
   "source": [
    "### Notifications\n",
    "\n",
    "Servers can be programmed to send general or user-specific notifications through the website itself or via email, SMS, instant messaging, video conversations, or other communications services.\n",
    "\n",
    "A few examples include:\n",
    "\n",
    "1. Facebook and Twitter send emails and SMS messages to notify you of new communications.\n",
    "2. Amazon regularly sends product emails that suggest products similar to those already bought or viewed that you might be interested in.\n",
    "3. A web server might send warning messages to site administrators, alerting them to low memory on the server or suspicious user activity.\n"
   ]
  },
  {
   "cell_type": "markdown",
   "metadata": {},
   "source": [
    "### Data analysis\n",
    "\n",
    "A website may collect a lot of data about users: what they search for, what they buy, what they recommend, how long they stay on each page. Server-side programming can be used to refine responses based on an analysis of this data.\n",
    "\n",
    "For example, Amazon and Google both advertise products based on previous searches (and purchases)."
   ]
  },
  {
   "cell_type": "markdown",
   "metadata": {},
   "source": [
    "# **NodeJS**"
   ]
  },
  {
   "cell_type": "markdown",
   "metadata": {},
   "source": [
    "## What is Node.js?\n",
    "\n",
    "The official Node.js (https://nodejs.org/en/about/) website says, “As an asynchronous event-driven JavaScript runtime, Node is designed to build scalable network applications. In the following “hello world” example, many connections can be handled concurrently. Upon each connection, the callback is fired, but if there is no work to be done, Node will sleep.”\n",
    "\n",
    "You’re probably thinking, “…???”\n",
    "\n",
    "What they actually mean to say is that Node is a runtime environment that can run JavaScript outside of browsers. Also that servers written in Node can handle multiple connections at once, which makes them more efficient."
   ]
  },
  {
   "cell_type": "markdown",
   "metadata": {},
   "source": [
    "### Why Node?\n",
    "\n",
    "Node is great for software prototyping i.e., building incomplete versions of something that demonstrate what it is meant to do eventually. Node is also incredibly fast and highly scalable, which means that it is great to use in the industry. Furthermore, it uses JavaScript, which is a language that most people are already familiar with, so writing in Node is easy. Also, the code written for Node is usually cleaner and more consistent. Lastly, there is a large ecosystem of open-source libraries available for Node."
   ]
  }
 ],
 "metadata": {
  "kernelspec": {
   "display_name": "Python 3",
   "language": "python",
   "name": "python3"
  },
  "language_info": {
   "codemirror_mode": {
    "name": "ipython",
    "version": 3
   },
   "file_extension": ".py",
   "mimetype": "text/x-python",
   "name": "python",
   "nbconvert_exporter": "python",
   "pygments_lexer": "ipython3",
   "version": "3.8.1"
  }
 },
 "nbformat": 4,
 "nbformat_minor": 4
}
