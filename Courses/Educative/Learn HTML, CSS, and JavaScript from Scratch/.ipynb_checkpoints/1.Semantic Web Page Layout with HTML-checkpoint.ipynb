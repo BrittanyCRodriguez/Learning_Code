{
 "cells": [
  {
   "cell_type": "markdown",
   "metadata": {},
   "source": [
    "# **What is HTML?**"
   ]
  },
  {
   "cell_type": "markdown",
   "metadata": {},
   "source": [
    "## Context\n",
    "\n",
    "Think of a document that you would create in a word processor like Microsoft Word or Google Docs. They usually consist of more than one style. They use different font sizes to indicate different section of the text, like headers, main content, footers, table of contents, captions, and so on.\n",
    "\n",
    "Whereas a human can simply look at a document and understand the difference between a heading and a paragraph, computers have no such intuition. In order for a browser to render a web page correctly, it must be explicitly told what each piece of content is.\n",
    "widget\n",
    "\n",
    "![HTML Content](Images/HtmlContent.png)"
   ]
  },
  {
   "cell_type": "markdown",
   "metadata": {},
   "source": [
    "### Defining structure using HTML elements\n",
    "\n",
    "So how exactly do we tell the browser what’s what? This is where **Hyper Text Markup Langauge** (or **HTML** for short) comes in handy. HTML is a markup language that provides a description of the structure/layout of your web page. We define this structure by wrapping content in **HTML elements**.\n",
    "\n",
    "An HTML *element* is formed using a *tag*, which serves as a descriptor for each piece of content on your page. As an example, the `<p>` tag is used to describe a paragraph HTML *element*.\n",
    "\n",
    "Some other examples of HTML elements include:\n",
    "\n",
    "1. `<h1>`: Highest-level heading\n",
    "2. `<h6>`: Lowest-level heading\n",
    "3. `<img>`: An image\n",
    "4. `<a>`: An *anchor* which creates a hyperlink to things like other HTML pages, files, email addresses, and more\n",
    "\n",
    "Most HTML elements contain both *opening* and *closing* tags to indicate where an element starts and ends, like so:\n",
    "\n",
    "```\n",
    "<p>This is a paragraph element.</p>\n",
    "```\n",
    "\n",
    "There are a few exceptions, such as the `<img>` tag, which we will describe in subsequent lessons."
   ]
  },
  {
   "cell_type": "markdown",
   "metadata": {},
   "source": [
    "### A Basic HTML File\n",
    "\n",
    "Let’s examine a basic HTML file to get a better understanding of how to use markup to define the structure of a web page:\n",
    "\n",
    "``` html\n",
    "<DOCTYPE! html>\n",
    "<html> \n",
    "  <head>\n",
    "    <title>A Basic Web Page</title>\n",
    "  </head>\n",
    "  <body>\n",
    "    <h1>My First HTML File</h1>\n",
    "    <p>Congratulations! You're well on your way to creating your own web pages.</p>\n",
    "  </body>\n",
    "</html>\n",
    "```\n",
    "\n",
    "The first line, `<DOCTYPE! html>`, is referred to as a *doctype declaration*. This is used to indicate to a browser what HTML version the file is written in. For this file, specifying `html` indicates that the file is written in HTML5.\n",
    "\n",
    "For the second line, take particular note of how the closing tag for the `<html>` is on the last line of the file. One of the properties of HTML elements is their ability to be **nested**. In other words, HTML elements can exist within other HTML elements. This gives rise to an interesting structure, referred to most commonly as a *tree* data structure in computer science lingo.\n",
    "\n",
    "In an HTML file, we indicate the root element with the tag `<html>`. Within this root element there are multiple elements, which can be considered *branches* of the root node:\n",
    "\n",
    "![HTML Tree](Images/HtmlTree.png)\n",
    "\n",
    "To properly define an HTML file, we must place `<head>` and `<body>` elements within the root `<html>` element.\n",
    "\n",
    "The `<head>` element contains supporting information about the file, commonly referred to as **metadata**. There must be a `<title>` (providing the webpage a title) directly underneath the `<head>` element in order be complete. The `<head>` element may also contain links to Javascript files and CSS stylesheets.\n",
    "\n",
    "The `<body>` element contains the main content of an HTML file. This is the element that holds the information that is rendered by your web browser. There can be **only one** `<body>` element within an HTML file, and most of the HTML you write will exist within this element.\n",
    "\n",
    "Within the `<body>` element of this file, we have a high-level heading (`<h1>`) and a paragaph (`<p>`)."
   ]
  },
  {
   "cell_type": "markdown",
   "metadata": {},
   "source": [
    "### Rendering the HTML file in the browser\n",
    "\n",
    "Now, lets take a look at how this web page is rendered by the browser:\n",
    "```html\n",
    "<DOCTYPE! html>\n",
    "<html> \n",
    "  <head>\n",
    "    <title>A Basic Web Page</title>\n",
    "  </head>\n",
    "  <body>\n",
    "    <h1>My First HTML File</h1>\n",
    "    <p>Congratulations! You're well on your way to creating your own web pages.</p>\n",
    "  </body>\n",
    "</html>\n",
    "```\n",
    "\n",
    "![HTML Render](Images/HtmlRender.png)"
   ]
  },
  {
   "cell_type": "markdown",
   "metadata": {},
   "source": [
    "# **Attributes + Hyperlinking**\n",
    "\n"
   ]
  },
  {
   "cell_type": "markdown",
   "metadata": {},
   "source": [
    "## HTML attributes\n",
    "\n",
    "HTML **attributes** provide additional information about an HTML element. Attributes can be considered as properties of the element. An element may have a single attribute, many attributes, or no attributes at all.\n",
    "\n",
    "Let’s take a look at an example heading with a `title` attribute:\n",
    "\n",
    "```\n",
    "<h2 title=\"This is a subheading\">Hello, World!</h2>\n",
    "```\n",
    "\n",
    "Attributes are placed in the opening tag, with a space after the element declaration (or another attribute, if there are multiple) and are defined using the following format:\n",
    "\n",
    "```\n",
    "<tagName attribute_name=\"attribute_value\"></tagName>\n",
    "```\n",
    "\n",
    "The attribute name is always followed by an `=` sign and the attribute value is always wrapped in quotation marks. There are no spaces between the attribute name, `=` sign, and the attribute value."
   ]
  },
  {
   "cell_type": "markdown",
   "metadata": {},
   "source": [
    "## Anchor elements / hyperlinking\n",
    "\n",
    "One of the most important aspects of the World Wide Web is the ability to link to other parts of the web. Without a way to redirect our HTML page to other web addresses, there really wouldn’t be a “web” at all!\n",
    "\n",
    "We can connect a HTML page to other web pages by creating a **hyperlink** using the *anchor* tag, like so:\n",
    "\n",
    "```\n",
    "<a href=\"http://www.google.com\">Google</a>\n",
    "```\n",
    "\n",
    "The `href` *attribute* refers to **Hypertext Reference**, whose value is a **Uniform Resource Locator** (URL). A URL is basically fancy lingo for a web address, or the destination the link is pointing to. The `href` attribute can also refer to things like:\n",
    "\n",
    "1. Email Addresses (`mailto:someone@educative.io`)\n",
    "2. Phone Numbers (`tel:+18004444444`)\n",
    "3. Documents/Files (Give the URL of the file instead of a web page)\n",
    "4. Another different location on the same web page the browser is currently on\n"
   ]
  },
  {
   "cell_type": "markdown",
   "metadata": {},
   "source": [
    "### Relative vs absolute URL paths\n",
    "\n",
    "It’s important to understand how file paths play a role in how your hyperlinks will operate.\n",
    "\n",
    "An **absolute** URL points to a single address that will direct to the same place regardless of where the original page is coming from. It looks something like this: `   http://www.github.com/google .`\n",
    "\n",
    "In an absolute URL path there are three main components:\n",
    "\n",
    "1. The **Protocol**: What you most often see as `http://` or `https://` when you browse websites, but can be other things, like `file://` or `ftp://`\n",
    "\n",
    "2. The **Domain**: The name of the website (in this example,` www.github.com`)\n",
    "\n",
    "3. The **Path**: The directory (or folder) we wish to navigate to. This field is not always necessary, and generally allows us to navigate to a more specific portion of a domain (in this case, Google’s profile on Github)\n",
    "\n",
    "An absolute URL provides all the information necessary for a browser with an internet connection to reach the desired address. Furthermore, an absolute URL will not change its destination if used on different devices/browsers.\n",
    "\n",
    "**Relative** URLs provide less information than absolute URLs and generally refer to pages on the same domain. Relative URLs are useful when you start to deal with multiple web pages on your site, and want a way to navigate between them.\n",
    "\n",
    "Let’s take a look at a quick example of a directory named `website` with:\n",
    "\n",
    "1. a main `index.html` page\n",
    "2. an about section, named `about.html`\n",
    "3. a nested directory named `blogPosts`, with three article HTML files named:\n",
    "        `article1.html`\n",
    "        `article2.html`\n",
    "        `article3.html`\n",
    "\n",
    "If we started in the `website` directory on the `index.html file`, we could redirect to the About section by including the anchor tag:\n",
    "\n",
    "```\n",
    "<a href=\"about.html\">About</a>\n",
    "```\n",
    "\n",
    "Now, say we want to navigate to an article in our `blogPost` folder. The relative URL path would then include the directory name: `blogPost/article2.html`. The entire anchor element would then be:\n",
    "\n",
    "```\n",
    "<a href=\"blogPost/article2.html\">Article 2</a>\n",
    "```\n",
    "\n",
    "Now, how would we navigate back to the `index.html` page if we are in the `blogPost` directory? We can accomplish this by indicating the path to the file is one direct level up, like so: `../index.html`.\n"
   ]
  },
  {
   "cell_type": "markdown",
   "metadata": {},
   "source": [
    "# **Headings + Lists**"
   ]
  },
  {
   "cell_type": "markdown",
   "metadata": {},
   "source": [
    "## Headings\n",
    "\n",
    "We’ve already seen the `h1` element in use in the previous two lessons. The HTML standard has five additional text heading elements, appropriately named `h2` through `h6`.\n",
    "\n",
    "It should be noted that heading elements should not be used to manipulate the font size of a heading. Rather, the levels represent *semantically* the difference between a main header, sub-header, etc. We will learn more about HTML semantics, as well as how to change an element’s font size with Cascading Style Sheets (CSS), in subsequent sections.\n",
    "\n",
    "To practice good style, you shouldn’t skip heading levels when structuring your HTML pages. In other words, an `h2` element should be used for a header one level below an `h1` element, an `h3` element should be used a level below `h2`, and so on.\n",
    "\n",
    "```html\n",
    "<html>\n",
    " <head>\n",
    "   <title>h1 - h6 elements</title>\n",
    " </head>\n",
    " <body>\n",
    "   <h1>Heading Level 1</h1>\n",
    "   <h2>Heading Level 2</h2>\n",
    "   <h3>Heading Level 3</h3>\n",
    "   <h4>Heading Level 4</h4>\n",
    "   <h5>Heading Level 5</h5>\n",
    "   <h6>Heading Level 6</h6>\n",
    " </body>\n",
    "</html>\n",
    "```\n"
   ]
  },
  {
   "cell_type": "markdown",
   "metadata": {},
   "source": [
    "## Lists *\n",
    "\n",
    "Often times we will want to include a bulleted or numbered list in web page content. This can be accomplished with **HTML lists**."
   ]
  },
  {
   "cell_type": "markdown",
   "metadata": {},
   "source": [
    "### Unordered lists\n",
    "\n",
    "We could create an **unordered list** to represent things like a list of to-dos or a list of grocery items. To do this, we must use the `<ul>` tag, with nested `<li>` tags for the *list items*.\n",
    "\n",
    "```html\n",
    "<html>\n",
    " <head>\n",
    "   <title>Things to Get from Grocery Store</title>\n",
    " </head>\n",
    " <body>\n",
    "   <h1>Grocery Items</h1>\n",
    "   <ul>\n",
    "     <li>Butter</li>\n",
    "     <li>Milk</li>\n",
    "     <li>Eggs</li>\n",
    "     <li>Cereal</li>\n",
    "   </ul>\n",
    " </body>\n",
    "</html>\n",
    "\n",
    "```"
   ]
  },
  {
   "cell_type": "markdown",
   "metadata": {},
   "source": [
    "#### Ordered lists\n",
    "\n",
    "An **ordered list** should be used when the items in the list go in a particular order, like turn-by-turn instructions on a navigation system, or steps in a recipe. An ordered list is fairly similar to an unordered list, except we will want to use the `<ol>` tag to declare the list. List items are still wrapped in an `<li>` tag. The list items will be numbered, rather than the bulleted items we saw previously.\n",
    "\n",
    "```html\n",
    "<html>\n",
    " <head>\n",
    "   <title>How to Brush Your Teeth</title>\n",
    " </head>\n",
    " <body>\n",
    "   <h1>Brushing Instructions</h1>\n",
    "   <ol>\n",
    "     <li>Acquire toothbrush and toothpaste</li>\n",
    "     <li>Squeeze a small amount of paste onto the toothbrush bristles</li>\n",
    "     <li>Lightly rinse brush + paste with water</li>\n",
    "     <li>Move brush against teeth in a back and forth motion</li>\n",
    "   </ol>\n",
    " </body>\n",
    "</html>\n",
    "\n",
    "```\n",
    "\n"
   ]
  },
  {
   "cell_type": "markdown",
   "metadata": {},
   "source": [
    "#### List element attributes: `type` and `start`\n",
    "\n",
    "The `type` attribute allows us to change the style of either the bullets for unordered lists or the numbering scheme for ordered lists.\n",
    "\n",
    "Unordered list `type` values include `circle`, `disc`, and `square`.\n",
    "\n",
    "Ordered list `type` values can be used to change the numbering scheme, and include the following:\n",
    "\n",
    "    1: Default numeric scheme\n",
    "    I: Upper-case Roman numerals\n",
    "    i: Lower-case Roman numerals\n",
    "    A: Upper-case Alphabet\n",
    "    a: Lower-case Alphabet\n",
    "\n",
    "Ordered lists have an additional `start` attribute, that can be used to start the numbering at a value other than the default of 1.\n",
    "\n",
    "```html\n",
    "<html>\n",
    " <head>\n",
    "   <title>How to Brush Your Teeth</title>\n",
    " </head>\n",
    " <body>\n",
    "   <h1>Brushing Instructions</h1>\n",
    "   \n",
    "   <!-- Upper-case Roman Numerals -->\n",
    "   <ol type=\"I\">\n",
    "     <li>Acquire toothbrush and toothpaste</li>\n",
    "     <li>Squeeze a small amount of paste onto the toothbrush bristles</li>\n",
    "     <li>Lightly rinse brush + paste with water</li>\n",
    "     <li>Move brush against teeth in a back and forth motion</li>\n",
    "   </ol>\n",
    "   \n",
    "   <!-- Lower-case Alphabet -->\n",
    "   <ol type=\"a\">\n",
    "     <li>Acquire toothbrush and toothpaste</li>\n",
    "     <li>Squeeze a small amount of paste onto the toothbrush bristles</li>\n",
    "     <li>Lightly rinse brush + paste with water</li>\n",
    "     <li>Move brush against teeth in a back and forth motion</li>\n",
    "   </ol>\n",
    "   \n",
    "   <!-- Default numeric scheme, starting at 5 -->\n",
    "   <ol type=\"1\" start=\"5\">\n",
    "     <li>Acquire toothbrush and toothpaste</li>\n",
    "     <li>Squeeze a small amount of paste onto the toothbrush bristles</li>\n",
    "     <li>Lightly rinse brush + paste with water</li>\n",
    "     <li>Move brush against teeth in a back and forth motion</li>\n",
    "   </ol>\n",
    "   \n",
    " </body>\n",
    "</html>\n",
    "\n",
    "```\n",
    "\n"
   ]
  },
  {
   "cell_type": "markdown",
   "metadata": {},
   "source": [
    "# **Inline vs. Block Elements + Divs**\n",
    "\n"
   ]
  },
  {
   "cell_type": "markdown",
   "metadata": {},
   "source": [
    "## Inline vs. block-level elements * \n",
    "\n",
    "Each HTML element is interpreted in a specific way by your web browser. Now that you’ve started to learn about structuring your web pages, we should discuss the differences in **block-level** and **inline** HTML elements to gain a better understanding of how content is rendered."
   ]
  },
  {
   "cell_type": "markdown",
   "metadata": {},
   "source": [
    "### Block-level elements\n",
    "\n",
    "Block-level HTML elements take up the full width of a web page, essentially creating a “block” around the content you place within that element. Block-level elements, by default, also start on a new line. Most of the elements we have dealt with so far are block-level elements, including:\n",
    "\n",
    "1. Headings (`<h1>-<h6>`)\n",
    "2. Ordered and Unordered Lists (`<ol>, <ul>`)\n",
    "3. List Items (`<li>`)\n",
    "4. Paragraphs (`<p>`)\n"
   ]
  },
  {
   "cell_type": "markdown",
   "metadata": {},
   "source": [
    "### Inline elements\n",
    "\n",
    "Inline elements, like the name suggests, do not take up the full width of a webpage and are generally *in-line* with text content. Inline elements also do not start a new line when rendered in the browser. Examples of inline elements include:\n",
    "\n",
    "1. Anchors (`<a>`)\n",
    "2. Images (`<img>`)\n",
    "3. Bolding Text (`<strong>`)\n",
    "4. Emphasizing Text (`<em>`)\n",
    "\n",
    "The coding example below helps illustrate the differences between block-level and inline HTML elements:\n",
    "\n",
    "```html\n",
    "<html>\n",
    " <head>\n",
    "   <title>Block-level vs Inline HTML Element Rendering</title>\n",
    " </head>\n",
    " <body>\n",
    "   <p>This is a block-level element. It takes up the width of the page</p>\n",
    "   <p>This element (also block-level), is rendered a line below the previous element</p>\n",
    "   <p>\n",
    "     <strong>Inline elements</strong> often times exist <em>within</em> block-level elements\n",
    "     <a href=\"https://developer.mozilla.org/en-US/docs/Web/HTML/Inline_elements\">and they do not start on a new line of the web page.</a>\n",
    "   </p>\n",
    " </body>\n",
    "</html>\n",
    "\n",
    "```\n"
   ]
  },
  {
   "cell_type": "markdown",
   "metadata": {},
   "source": [
    "## Divs\n",
    "\n",
    "The `<div>`, a block-level element, allows you to section into separate, logical divisions.\n",
    "    \n",
    "```html\n",
    "<html>\n",
    " <head>\n",
    "   <title>Grouping Content with Divs</title>\n",
    " </head>\n",
    " <body>\n",
    "   <div>\n",
    "     <h1>Group A</h1>\n",
    "   </div>\n",
    "   <div>\n",
    "     <h1>Group B</h1>\n",
    "   </div>\n",
    " </body>\n",
    "</html>\n",
    "```\n",
    "\n",
    "As you can see, the `<div>` element does not render as anything special on the web page and is mainly used to separate content into distinct groups for organization or styling purposes. Generally, you will nest other HTML elements within `<div>` elements to provide the proper structure to your page."
   ]
  },
  {
   "cell_type": "markdown",
   "metadata": {},
   "source": [
    "# **id + class Attributes**"
   ]
  },
  {
   "cell_type": "markdown",
   "metadata": {},
   "source": [
    "## id + class attributes\n",
    "\n",
    "The `id` and `class` attributes can be used to identify specific HTML elements across your HTML page.\n",
    "\n",
    "The `id` attribute provides you with the ability to give any element a *unique identifier*. This identifier can later be used for things like applying specific styles with CSS or capturing input with some Javascript code.\n",
    "\n",
    "```\n",
    "<h1 id=\"companyName\">Educative.io</h1>\n",
    "```\n",
    "\n",
    "Some notes about `id` usage:\n",
    "\n",
    "1. an `id` value should only be used for a single element (you will get unexpected behavior if you use the same `id` value for multiple elements)\n",
    "2. an `id` value must not contain any whitespace\n",
    "3. a single element cannot have multiple `id` values\n",
    "\n",
    "The `class` attribute is similar to the `id` attribute in that it is used to identify specific elements. The main distinctions are:\n",
    "\n",
    "1. the same `class` value can be used across multiple elements\n",
    "2. an element can have multiple `class` values, separated by whitespaces\n",
    "\n",
    "In the example below, the `id` and `class` attributes are used to apply CSS styles (hidden) to our HTML document. Take note of the **main differences** between the two attributes.\n",
    "\n",
    "```html\n",
    "<html>\n",
    " <head>\n",
    "   <title>id vs class attributes</title>\n",
    " </head>\n",
    " <body>\n",
    "   <!-- id elements can be used to identify specific elements on page -->\n",
    "   <h1 id=\"pageTitle\">id and class attributes</h1>\n",
    "   \n",
    "   <!-- class elements can be used to identify multiple elements that have\n",
    "\t\t\t\tsimilar characteristics -->\n",
    "   <p class=\"bordered\">This element has a border.</p>\n",
    "   \n",
    "\t <!-- the same class value can be used on multiple elements -->\n",
    "   <p class=\"bordered\">This element also has a border.</p>\n",
    "     \n",
    "   <!-- you can include multiple class values for a single element -->\n",
    "   <p class=\"red bordered\">This element has red text and a border.</p>\n",
    "   <p class=\"blue bordered\">This element has blue text and a border.</p>\n",
    " </body>\n",
    "</html>\n",
    "\n",
    "```\n"
   ]
  },
  {
   "cell_type": "markdown",
   "metadata": {},
   "source": [
    "# **The img Element**"
   ]
  },
  {
   "cell_type": "markdown",
   "metadata": {},
   "source": [
    "## Images\n",
    "\n",
    "Use the `<img>` tag to embed an image into your web page with an `src` attribute that contains a file path to the image you want to be included. Use the `alt` attribute to provide alternative text with a description of the image in case it doesn’t load, or is being read by a screen reader for people with disabilities.\n",
    "\n",
    "Unlike most of the elements we have encountered thus far, the `img` element **does not** have a closing tag :\n",
    "\n",
    "```\n",
    "<!-- Incorrect img declaration -->\n",
    "<img src=\"path/to/image/cat.jpg\" alt=\"A cat\"></img>\n",
    " \n",
    "<!-- Correct img declaration -->\n",
    "<img src=\"path/to/image/cat.jpg\" alt=\"A cat\">\n",
    "```\n",
    "\n",
    "```html\n",
    "<html>\n",
    " <head>\n",
    "   <title>Waterfall Photography 101</title>\n",
    " </head>\n",
    " <body>\n",
    "   <h1>Waterfall Photography 101</h1>\n",
    "   <div class=\"imgContainer\">\n",
    "     <img src=\"/udata/DErqVR5q0Pv/longexposurewaterfall1.jpg\" alt=\"Long Exposure Waterfall\">\n",
    "     <h4 class=\"caption\">Learn how to take stunning waterfall pictures!</h4>\n",
    "   </div>\n",
    " </body>\n",
    "</html>\n",
    "\n",
    "```\n",
    "\n"
   ]
  },
  {
   "cell_type": "markdown",
   "metadata": {},
   "source": [
    "# **Delving into Semantics**"
   ]
  },
  {
   "cell_type": "markdown",
   "metadata": {},
   "source": [
    "## Overview\n",
    "\n",
    "Let’s take look at the definition of semantic, according to dictionary.com:\n",
    "\n",
    "    Semantic [si-man-tik]:\n",
    "    adjective\n",
    "\n",
    "        of, relating to, or arising from the different meanings of words or other symbols\n",
    "        of or relating to semantics\n",
    "\n",
    "In this lesson, we will address the importance of considering semantics when structuring your HTML pages.\n",
    "\n",
    "So far, we have focused on using HTML to structure our web pages and provide a certain presentation of the content. With the HTML5 standard, many elements were introduced that moved HTML from a presentation-centric markup to a more **semantic-centric** approach.\n",
    "\n",
    "What exactly do we mean by this? Referring back to the definition, the goal of semantic HTML is to clearly indicate the **meaning** of each piece of your web page’s content."
   ]
  },
  {
   "cell_type": "markdown",
   "metadata": {},
   "source": [
    "### Case study\n",
    "\n",
    "A good illustration of the difference between presentational elements and semantic elements can be found in the differences between the style-centric HTML4 `<i>` and `<b>` elements vs. the semantic `<em>` and `<strong>` tags.\n",
    "\n",
    "In the HTML4 world, the `<i>` element was used to italisize text, and the `<b>` element was used to **bold** text.\n",
    "\n",
    "```html\n",
    "<html>\n",
    " <head>\n",
    "   <title>HTML4 Font Style Elements</title>\n",
    " </head>\n",
    " <body>\n",
    "   <p>In the HTML4 standard, several elements were provided to provide font stylization, \n",
    "     such as <i>italisized text</i> and <b>bold text</b>.</p>\n",
    " </body>\n",
    "</html>\n",
    "\n",
    "```\n",
    "\n",
    "However, in this scenario, the elements do not tell us anything about the meaning of this content. Contrast this with the newer HTML5 standard, where the `<em>` element can be used to place emphasis on content, while the `<strong>` element can be used to **place strong emphasis** on content.\n",
    "\n",
    "```html\n",
    "<html>\n",
    " <head>\n",
    "   <title>HTML5 Semantic Tags</title>\n",
    " </head>\n",
    " <body>\n",
    "   <p>With HTML5, many elements were introduced to better indicate meaning of the content.</p> \n",
    "   <p>The <code>em</code> element to <em>indicates emphasized</em> content.</p>\n",
    "   <p>The <code>strong</code> element <strong>indicates strongly emphasized</strong> content.</p>\n",
    " </body>\n",
    "</html>\n",
    "\n",
    "```\n",
    "\n",
    "Take careful note as to how the HTML5 elements do not inherently indicate anything about the font style associated with the text. With HTML5, there is a clear **separation of concerns** between content meaning and the content’s stylization. Focusing on using HTML to *semantically* structure your web content provides several benefits, including:\n",
    "\n",
    "1. making your web content vastly more **accessible** to readers with disabilities\n",
    "2. applying styles with CSS will become more consistent and predictable\n",
    "3. search engines will use the semantic information to better understand your web pages\n",
    "\n"
   ]
  },
  {
   "cell_type": "markdown",
   "metadata": {},
   "source": [
    "### Structural semantic elements\n",
    "\n",
    "In the previous lesson, we learned how to use `div` elements to separate content into different sections. However, `div` elements do not provide any inherent semantic meaning and are used most often as generic containers for styling content. With HTML5, several **structural elements** were introduced to separate content into more semantically appropriate containers."
   ]
  },
  {
   "cell_type": "markdown",
   "metadata": {},
   "source": [
    "#### `<hgroup>`\n",
    "\n",
    "`hgroup` elements can be used to group heading elements that are *semantically* part of the same heading.\n",
    "\n",
    "```html\n",
    "<hgroup>\n",
    "  <h1>My Amazing Website</h1>\n",
    "  <h2>More information about my website</h2>\n",
    "</hgroup>\n",
    "```"
   ]
  },
  {
   "cell_type": "markdown",
   "metadata": {},
   "source": [
    "#### `<header>`\n",
    "\n",
    "The `header` element can be used to represent content that is similar to the main header in a text document.\n",
    "\n",
    "Many web page `header` elements contain logos and large headings identifying the site. Generally, the `header` remains consistent across pages (if your site contains multiple pages). `header` elements often also contain navigational elements that direct users to different parts of your web page."
   ]
  },
  {
   "cell_type": "markdown",
   "metadata": {},
   "source": [
    "#### `<nav>`\n",
    "\n",
    "`nav` elements should be used to house components of your web page that are used to navigate to different parts of your web page.\n",
    "\n",
    "A `nav` element is often found inside a `header` element. It is not necessary to follow this convention if you wish to place your navigation elements elsewhere on the web page.\n",
    "\n",
    "```html\n",
    "<hgroup>\n",
    "  <h1>My Amazing Website</h1>\n",
    "  <h2>More information about my website</h2>\n",
    "</hgroup>\n",
    "```"
   ]
  },
  {
   "cell_type": "markdown",
   "metadata": {},
   "source": [
    "#### `<footer>`\n",
    "\n",
    "The `footer` element, as its name suggests, is used to house content that would be considered to be the footer of your page.\n",
    "\n",
    "A footer can store things like the website’s author, copyright information, or even navigational elements to other pages on your website.\n",
    "\n",
    "```html\n",
    "<footer>\n",
    "  <h3>&copy; My Company Name, 2017</h3>\n",
    "</footer>\n",
    "```"
   ]
  },
  {
   "cell_type": "markdown",
   "metadata": {},
   "source": [
    "#### `<article>`\n",
    "\n",
    "`article` elements should be used to house individual pieces of content that are unique to an individual page. A blog entry, a news/scholarly article, and a forum post are all good examples of content that would be semantically appropriate to store in an `article` element.\n",
    "\n",
    "`article` elements **should have a heading** to indicate what the `article`'s content is about.\n",
    "\n",
    "```html\n",
    "<article>\n",
    "  <h1>Cryptocurrency: What is it?</h1>\n",
    "  <!-- Article contents -->\n",
    "</article>\n",
    "```"
   ]
  },
  {
   "cell_type": "markdown",
   "metadata": {},
   "source": [
    "#### `<section>`\n",
    "\n",
    "`section` elements represent thematic groupings of content on your web page. For example, if your web page housed the contents of a book, `section` elements could be used for the book’s chapters.\n",
    "\n",
    "`section` elements should also have a heading element to indicate what the `section`'s contents are about.\n",
    "\n",
    "In general, `section` elements should be used when you need to place your content into semantic groupings that don’t fit the description of any other semantic element.\n",
    "\n",
    "`section` elements can also be used to break up content in an `article` element into semantically discrete components.\n",
    "\n",
    "```html\n",
    "<section>\n",
    "  <h2>Chapter 1</h2>\n",
    "  <!-- Chapter contents -->\n",
    "</section>\n",
    "<section>\n",
    "  <h2>Chapter 2</h2>\n",
    "  <!-- Chapter contents -->\n",
    "</section>\n",
    "<section>\n",
    "  <h2>Chapter 3</h2>\n",
    "  <!-- Chapter contents -->\n",
    "</section>\n",
    "<section>\n",
    "  <h2>Chapter 4</h2>\n",
    "  <!-- Chapter contents -->\n",
    "</section>\n",
    "```\n",
    "------------\n",
    "```html\n",
    "<section>\n",
    "  <h2>Chapter 1</h2>\n",
    "  <!-- Chapter contents -->\n",
    "</section>\n",
    "<section>\n",
    "  <h2>Chapter 2</h2>\n",
    "  <!-- Chapter contents -->\n",
    "</section>\n",
    "<section>\n",
    "  <h2>Chapter 3</h2>\n",
    "  <!-- Chapter contents -->\n",
    "</section>\n",
    "<section>\n",
    "  <h2>Chapter 4</h2>\n",
    "  <!-- Chapter contents -->\n",
    "</section>\n",
    "```"
   ]
  },
  {
   "cell_type": "markdown",
   "metadata": {},
   "source": [
    "#### `<time>`\n",
    "\n",
    "Use the `time` element to provide a **machine-readable timestamp** for parts of your content that indicate a specific time or date. The `time` element has a `datetime` attribute that takes as input the date/time in a variety of formats, which you can learn more about here(https://css-tricks.com/time-element/).\n",
    "\n",
    "`time` should be used for things like the time of an event or the date a blog post is published to a website. `time` elements are not rendered any differently than regular text, but it provides a way to semantically indicate to a computer what content is to be considered a time or date.\n",
    "\n",
    "```html\n",
    "<!-- time of an event -->\n",
    "<p>The party begins at <time datetime=\"19:00\">seven o'clock</time>!</p>\n",
    "\n",
    "<!-- date of publication -->\n",
    "<h1>My Blog Entry</h1>\n",
    "<h2><time datetime=\"2015-05-07\">May 7, 2015</time></h2>\n",
    "```\n",
    "\n"
   ]
  },
  {
   "cell_type": "markdown",
   "metadata": {},
   "source": [
    "#### `<aside>`\n",
    "\n"
   ]
  },
  {
   "cell_type": "markdown",
   "metadata": {},
   "source": [
    "### Exercise\n",
    "\n"
   ]
  },
  {
   "cell_type": "markdown",
   "metadata": {},
   "source": [
    "# **HTML Tables**"
   ]
  },
  {
   "cell_type": "markdown",
   "metadata": {},
   "source": [
    "## Exercise\n",
    "\n"
   ]
  },
  {
   "cell_type": "markdown",
   "metadata": {},
   "source": [
    "# **HTML Forms**"
   ]
  },
  {
   "cell_type": "markdown",
   "metadata": {},
   "source": [
    "## Overview\n",
    "\n"
   ]
  },
  {
   "cell_type": "markdown",
   "metadata": {},
   "source": [
    "## Text inputs * \n",
    "\n"
   ]
  },
  {
   "cell_type": "markdown",
   "metadata": {},
   "source": [
    "### `<input>`"
   ]
  },
  {
   "cell_type": "markdown",
   "metadata": {},
   "source": [
    "#### `<textarea>`\n",
    "\n"
   ]
  },
  {
   "cell_type": "markdown",
   "metadata": {},
   "source": [
    "## Buttons\n",
    "\n"
   ]
  },
  {
   "cell_type": "markdown",
   "metadata": {},
   "source": [
    "## Selection inputs\n",
    "\n"
   ]
  },
  {
   "cell_type": "markdown",
   "metadata": {},
   "source": [
    "### `<select>`\n",
    "\n"
   ]
  },
  {
   "cell_type": "markdown",
   "metadata": {},
   "source": [
    "### Radio buttons + check boxes with `<input>`\n",
    "\n"
   ]
  }
 ],
 "metadata": {
  "kernelspec": {
   "display_name": "Python 3",
   "language": "python",
   "name": "python3"
  },
  "language_info": {
   "codemirror_mode": {
    "name": "ipython",
    "version": 3
   },
   "file_extension": ".py",
   "mimetype": "text/x-python",
   "name": "python",
   "nbconvert_exporter": "python",
   "pygments_lexer": "ipython3",
   "version": "3.8.1"
  }
 },
 "nbformat": 4,
 "nbformat_minor": 4
}
